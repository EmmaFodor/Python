{
  "nbformat": 4,
  "nbformat_minor": 0,
  "metadata": {
    "colab": {
      "provenance": [],
      "authorship_tag": "ABX9TyOz0DBHYWiQJVsQaPDGRUQ9",
      "include_colab_link": true
    },
    "kernelspec": {
      "name": "python3",
      "display_name": "Python 3"
    },
    "language_info": {
      "name": "python"
    }
  },
  "cells": [
    {
      "cell_type": "markdown",
      "metadata": {
        "id": "view-in-github",
        "colab_type": "text"
      },
      "source": [
        "<a href=\"https://colab.research.google.com/github/EmmaFodor/Phyton/blob/main/Lab_suplimentar.ipynb\" target=\"_parent\"><img src=\"https://colab.research.google.com/assets/colab-badge.svg\" alt=\"Open In Colab\"/></a>"
      ]
    },
    {
      "cell_type": "code",
      "source": [
        "import numpy as np # conventie pentru importul numpy\n",
        "a = np.array([0, 1, 2, 3]) # crează un array unidimensional\n",
        "b = np.array([[0, 1, 2], [3, 4, 5]]) # 2 x 3 array"
      ],
      "metadata": {
        "id": "dZpeCJ8OjOY_"
      },
      "execution_count": null,
      "outputs": []
    },
    {
      "cell_type": "code",
      "execution_count": null,
      "metadata": {
        "id": "_QS4sLgzjARF",
        "colab": {
          "base_uri": "https://localhost:8080/"
        },
        "outputId": "27acd389-be5e-466b-8310-888828e172fc"
      },
      "outputs": [
        {
          "output_type": "stream",
          "name": "stdout",
          "text": [
            "[0 1 2 3 4 5 6 7 8 9]\n",
            "[1 3 5 7]\n",
            "[0.  0.2 0.4 0.6 0.8 1. ]\n",
            "[0.  0.2 0.4 0.6 0.8]\n",
            "[[1. 1. 1.]\n",
            " [1. 1. 1.]\n",
            " [1. 1. 1.]]\n",
            "[[0. 0.]\n",
            " [0. 0.]]\n",
            "[[1. 0. 0.]\n",
            " [0. 1. 0.]\n",
            " [0. 0. 1.]]\n",
            "[[1 0 0 0]\n",
            " [0 2 0 0]\n",
            " [0 0 3 0]\n",
            " [0 0 0 4]]\n",
            "[0.15136039 0.21889612 0.0735013  0.13918203]\n",
            "[1.16027828 0.96838389 1.6440274  0.96789123]\n"
          ]
        }
      ],
      "source": [
        "a = np.arange(10) # 0 .. n-1\n",
        "print(a)\n",
        "b = np.arange(1, 9, 2) # start, end (exclusive), step\n",
        "print(b)\n",
        "c = np.linspace(0, 1, 6) # start, end, num-points\n",
        "print(c)\n",
        "d = np.linspace(0, 1, 5, endpoint=False)\n",
        "print(d)\n",
        "e = np.ones((3, 3))\n",
        "print(e)\n",
        "f = np.zeros((2, 2))\n",
        "print(f)\n",
        "g = np.eye(3)\n",
        "print(g)\n",
        "h = np.diag(np.array([1, 2, 3, 4]))\n",
        "print(h)\n",
        "aa = np.random.rand(4) # distributie uniforma\n",
        "print(aa)\n",
        "bb = np.random.randn(4) \n",
        "print(bb)"
      ]
    },
    {
      "cell_type": "code",
      "source": [
        "a = np.array([1, 2, 3])\n",
        "print(a)\n",
        "b = np.array([1., 2., 3.])\n",
        "print(b)\n",
        "c = np.array([1, 2, 3], dtype=float)\n",
        "print(c)\n",
        "d = np.array([1+2j, 3+4j, 5+6*1j])\n",
        "print(d)\n",
        "e = np.array([True, False, False, True])\n",
        "print(e)\n",
        "f = np.array(['Bonjour', 'Hello', 'Hallo',])\n",
        "print(f)\n",
        "g = np.ones((3, 3))\n",
        "print(g)"
      ],
      "metadata": {
        "id": "W54oEQIDjYGr",
        "colab": {
          "base_uri": "https://localhost:8080/"
        },
        "outputId": "248b67cb-5e9a-4021-a6ff-0e0de87f102f"
      },
      "execution_count": null,
      "outputs": [
        {
          "output_type": "stream",
          "name": "stdout",
          "text": [
            "[1 2 3]\n",
            "[1. 2. 3.]\n",
            "[1. 2. 3.]\n",
            "[1.+2.j 3.+4.j 5.+6.j]\n",
            "[ True False False  True]\n",
            "['Bonjour' 'Hello' 'Hallo']\n",
            "[[1. 1. 1.]\n",
            " [1. 1. 1.]\n",
            " [1. 1. 1.]]\n"
          ]
        }
      ]
    },
    {
      "cell_type": "code",
      "source": [
        "a = np.diag(np.arange(3))\n",
        "print(a)\n",
        "a[2, 1] = 10\n",
        "print(a)"
      ],
      "metadata": {
        "colab": {
          "base_uri": "https://localhost:8080/"
        },
        "id": "xR3JX9wrjbt3",
        "outputId": "2e2bce1a-2ed3-4e84-b010-ac7767ac2427"
      },
      "execution_count": null,
      "outputs": [
        {
          "output_type": "stream",
          "name": "stdout",
          "text": [
            "[[0 0 0]\n",
            " [0 1 0]\n",
            " [0 0 2]]\n",
            "[[ 0  0  0]\n",
            " [ 0  1  0]\n",
            " [ 0 10  2]]\n"
          ]
        }
      ]
    },
    {
      "cell_type": "code",
      "source": [
        "a = np.arange(10)\n",
        "print(a[2:9:3]) # [start:end:step]\n",
        "print(a[::-1])\n",
        "print(a[:4])"
      ],
      "metadata": {
        "colab": {
          "base_uri": "https://localhost:8080/"
        },
        "id": "q95vDtapjgtG",
        "outputId": "dcdd3459-412d-4f9b-be06-431e3bc524ac"
      },
      "execution_count": null,
      "outputs": [
        {
          "output_type": "stream",
          "name": "stdout",
          "text": [
            "[2 5 8]\n",
            "[9 8 7 6 5 4 3 2 1 0]\n",
            "[0 1 2 3]\n"
          ]
        }
      ]
    },
    {
      "cell_type": "code",
      "source": [
        "x=np.arange(6) + np.arange(0, 51, 10)[:, np.newaxis]\n",
        "print(x)"
      ],
      "metadata": {
        "id": "cDluUGYNjmyb",
        "colab": {
          "base_uri": "https://localhost:8080/"
        },
        "outputId": "187ca47f-f139-4b92-e8a6-49e59e7373d0"
      },
      "execution_count": null,
      "outputs": [
        {
          "output_type": "stream",
          "name": "stdout",
          "text": [
            "[[ 0  1  2  3  4  5]\n",
            " [10 11 12 13 14 15]\n",
            " [20 21 22 23 24 25]\n",
            " [30 31 32 33 34 35]\n",
            " [40 41 42 43 44 45]\n",
            " [50 51 52 53 54 55]]\n"
          ]
        }
      ]
    },
    {
      "cell_type": "code",
      "source": [
        "a = np.arange(10)\n",
        "b = a[::2]\n",
        "print(a, b)\n",
        "b[0] = 12\n",
        "print(b)\n",
        "print(a)\n"
      ],
      "metadata": {
        "colab": {
          "base_uri": "https://localhost:8080/"
        },
        "id": "Ihd83JpojrCz",
        "outputId": "b4af3123-6b8c-4199-bde2-a0baa86013dc"
      },
      "execution_count": null,
      "outputs": [
        {
          "output_type": "stream",
          "name": "stdout",
          "text": [
            "[0 1 2 3 4 5 6 7 8 9] [0 2 4 6 8]\n",
            "[12  2  4  6  8]\n",
            "[12  1  2  3  4  5  6  7  8  9]\n"
          ]
        }
      ]
    },
    {
      "cell_type": "code",
      "source": [
        "a = np.arange(10)\n",
        "c = a[::2].copy() # copiere fortata\n",
        "c[0] = 12\n",
        "print(c)\n",
        "print(a)\n",
        "print(np.may_share_memory(a, c))"
      ],
      "metadata": {
        "colab": {
          "base_uri": "https://localhost:8080/"
        },
        "id": "_4aAozWkjw4u",
        "outputId": "6c56bfd8-e27b-4136-e34b-5b425d7243ce"
      },
      "execution_count": null,
      "outputs": [
        {
          "output_type": "stream",
          "name": "stdout",
          "text": [
            "[12  2  4  6  8]\n",
            "[0 1 2 3 4 5 6 7 8 9]\n",
            "False\n"
          ]
        }
      ]
    },
    {
      "cell_type": "code",
      "source": [
        "a = np.array([1, 2, 3, 4])\n",
        "print(a + 1) #aduna 1 element cu element\n",
        "print(2**a) # inmulteste cu 2, element cu element\n",
        "b= np.ones(4) + 1\n",
        "print(b)\n",
        "print(a-b, a*b)"
      ],
      "metadata": {
        "colab": {
          "base_uri": "https://localhost:8080/"
        },
        "id": "v6AxzygIj_Hy",
        "outputId": "91354502-15b7-4da7-bfcf-05ad6e4287fa"
      },
      "execution_count": null,
      "outputs": [
        {
          "output_type": "stream",
          "name": "stdout",
          "text": [
            "[2 3 4 5]\n",
            "[ 2  4  8 16]\n",
            "[2. 2. 2. 2.]\n",
            "[-1.  0.  1.  2.] [2. 4. 6. 8.]\n"
          ]
        }
      ]
    },
    {
      "cell_type": "code",
      "source": [
        "c = np.ones((3, 3))\n",
        "print(c*c) #inmultire matrici\n",
        "print(c.dot(c))"
      ],
      "metadata": {
        "colab": {
          "base_uri": "https://localhost:8080/"
        },
        "id": "rMvMaALakTBb",
        "outputId": "f6c836d7-cb1e-4c4b-a087-99de7ad9a77f"
      },
      "execution_count": null,
      "outputs": [
        {
          "output_type": "stream",
          "name": "stdout",
          "text": [
            "[[1. 1. 1.]\n",
            " [1. 1. 1.]\n",
            " [1. 1. 1.]]\n",
            "[[3. 3. 3.]\n",
            " [3. 3. 3.]\n",
            " [3. 3. 3.]]\n"
          ]
        }
      ]
    },
    {
      "cell_type": "code",
      "source": [
        "a = np.array([1, 2, 3, 4])\n",
        "b = np.array([4, 2, 2, 4])\n",
        "c = np.array([1, 2, 3, 4])\n",
        "print(a==b)  #comparatii\n",
        "print(a>b)\n",
        "print(np.array_equal(a, b))\n",
        "print(np.array_equal(a, c))"
      ],
      "metadata": {
        "colab": {
          "base_uri": "https://localhost:8080/"
        },
        "id": "nBFTBI3kkaeB",
        "outputId": "34841ca8-89ac-4789-e11c-f79f1893456f"
      },
      "execution_count": null,
      "outputs": [
        {
          "output_type": "stream",
          "name": "stdout",
          "text": [
            "[False  True False  True]\n",
            "[False False  True False]\n",
            "False\n",
            "True\n"
          ]
        }
      ]
    },
    {
      "cell_type": "code",
      "source": [
        "x=np.ones((4,4))\n",
        "a = np.array([1, 2, 3, 4]) #transpunere\n",
        "x[0,:]=a\n",
        "print(x.T)"
      ],
      "metadata": {
        "colab": {
          "base_uri": "https://localhost:8080/"
        },
        "id": "aOC9bG1qkgug",
        "outputId": "869ad6ef-06a3-4a2e-8aa6-c4a93d744f63"
      },
      "execution_count": null,
      "outputs": [
        {
          "output_type": "stream",
          "name": "stdout",
          "text": [
            "[[1. 1. 1. 1.]\n",
            " [2. 1. 1. 1.]\n",
            " [3. 1. 1. 1.]\n",
            " [4. 1. 1. 1.]]\n"
          ]
        }
      ]
    },
    {
      "cell_type": "code",
      "source": [
        "import matplotlib.pyplot as plt"
      ],
      "metadata": {
        "id": "v6DxhqLTkogi"
      },
      "execution_count": null,
      "outputs": []
    },
    {
      "cell_type": "code",
      "source": [
        "plt.axes([0.2, 0.1, 0.5, 0.8]) "
      ],
      "metadata": {
        "id": "XboyS0NhDeAt",
        "outputId": "7b06aeff-7d19-4b96-cc2c-71e488ac7133",
        "colab": {
          "base_uri": "https://localhost:8080/",
          "height": 299
        }
      },
      "execution_count": null,
      "outputs": [
        {
          "output_type": "execute_result",
          "data": {
            "text/plain": [
              "<matplotlib.axes._axes.Axes at 0x7fb2a5aea910>"
            ]
          },
          "metadata": {},
          "execution_count": 18
        },
        {
          "output_type": "display_data",
          "data": {
            "text/plain": [
              "<Figure size 432x288 with 1 Axes>"
            ],
            "image/png": "[encoded data removed]"
          },
          "metadata": {
            "needs_background": "light"
          }
        }
      ]
    },
    {
      "cell_type": "code",
      "source": [
        "x = np.linspace(0, 3, 20)    #unidimensional\n",
        "y = np.linspace(0, 9, 20)\n",
        "plt.plot(x, y) # linie\n",
        "plt.plot(x, y, 'o') # puncte\n",
        "plt.show() # afisarea graficului"
      ],
      "metadata": {
        "colab": {
          "base_uri": "https://localhost:8080/",
          "height": 265
        },
        "id": "ntvzTOFJkr9C",
        "outputId": "1bcf5a76-88ea-407e-aac3-d0ef82f9a450"
      },
      "execution_count": null,
      "outputs": [
        {
          "output_type": "display_data",
          "data": {
            "text/plain": [
              "<Figure size 432x288 with 1 Axes>"
            ],
            "image/png": "[encoded data removed]"
          },
          "metadata": {
            "needs_background": "light"
          }
        }
      ]
    },
    {
      "cell_type": "code",
      "source": [
        "image = np.random.rand(30, 30) # o matrice cu valori random - bidimensional\n",
        "plt.imshow(image, cmap=plt.cm.hot) # un grafic in care valorile precedente sunt ilustrate ca si culori\n",
        "plt.colorbar() # scala de culori\n",
        "plt.show() "
      ],
      "metadata": {
        "colab": {
          "base_uri": "https://localhost:8080/",
          "height": 266
        },
        "id": "bT2z-knekzct",
        "outputId": "e428e0fe-f8dd-4d3f-ee4e-8822e0c373a3"
      },
      "execution_count": null,
      "outputs": [
        {
          "output_type": "display_data",
          "data": {
            "text/plain": [
              "<Figure size 432x288 with 2 Axes>"
            ],
            "image/png": "[encoded data removed]"
          },
          "metadata": {
            "needs_background": "light"
          }
        }
      ]
    },
    {
      "cell_type": "code",
      "source": [
        "X = np.linspace(-np.pi, np.pi, 256, endpoint=True) # un array cu 256 valori de la –pi la +pi\n",
        "C, S = np.cos(X), np.sin(X) # c este cosinus de X, iar S este sinus de X.\n",
        "plt.plot(X, C)\n",
        "plt.plot(X, S)\n",
        "plt.show()"
      ],
      "metadata": {
        "colab": {
          "base_uri": "https://localhost:8080/",
          "height": 265
        },
        "id": "YaKm66jEk-bO",
        "outputId": "4bcbc4ea-2506-46fe-ede0-df2c1ba5b81f"
      },
      "execution_count": null,
      "outputs": [
        {
          "output_type": "display_data",
          "data": {
            "text/plain": [
              "<Figure size 432x288 with 1 Axes>"
            ],
            "image/png": "[encoded data removed]"
          },
          "metadata": {
            "needs_background": "light"
          }
        }
      ]
    },
    {
      "cell_type": "code",
      "source": [
        "plt.figure(figsize=(8, 6), dpi=80) # setarea dimensiunii si a rezolutiei\n",
        "plt.subplot(1, 1, 1)# crearea unui subgrafic\n",
        "X = np.linspace(-np.pi, np.pi, 256, endpoint=True)\n",
        "C, S = np.cos(X), np.sin(X)\n",
        "plt.plot(X, C, color=\"blue\", linewidth=1.0,\n",
        "linestyle=\"-\", label=\"cosinus\") #setarea culorii liniei, a grosimii si a stilului\n",
        "plt.plot(X, S, color=\"green\", linewidth=1.0,\n",
        "linestyle=\"-\", label=\"cosinus\")\n",
        "plt.xlim(-4.0, 4.0) # setarea limitelor axei X\n",
        "plt.xticks(np.linspace(-4, 4, 9, endpoint=True)) # setarea tickeri-lor pe axa X\n",
        "plt.ylim(-1.0, 1.0)\n",
        "plt.yticks(np.linspace(-1, 1, 5, endpoint=True))\n",
        "plt.legend(loc='upper left')#pozitionarea legendei\n",
        "plt.savefig(\"graphic_ex.png\", dpi=72) # salveaza figura\n",
        "plt.show()"
      ],
      "metadata": {
        "colab": {
          "base_uri": "https://localhost:8080/",
          "height": 417
        },
        "id": "WpEWfTY8lHAK",
        "outputId": "583db533-0b6c-4f36-ceee-466c7586c215"
      },
      "execution_count": null,
      "outputs": [
        {
          "output_type": "display_data",
          "data": {
            "text/plain": [
              "<Figure size 640x480 with 1 Axes>"
            ],
            "image/png": "[encoded data removed]"
          },
          "metadata": {
            "needs_background": "light"
          }
        }
      ]
    }
  ]
}