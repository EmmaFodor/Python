{
  "nbformat": 4,
  "nbformat_minor": 0,
  "metadata": {
    "colab": {
      "provenance": [],
      "authorship_tag": "ABX9TyMTkrXZljIJwIGgafathssP",
      "include_colab_link": true
    },
    "kernelspec": {
      "name": "python3",
      "display_name": "Python 3"
    },
    "language_info": {
      "name": "python"
    },
    "accelerator": "GPU",
    "gpuClass": "standard",
    "widgets": {
      "application/vnd.jupyter.widget-state+json": {
        "9cd5597aa4b34513b79def78a7cd50c4": {
          "model_module": "jupyter-matplotlib",
          "model_name": "MPLCanvasModel",
          "model_module_version": "^0.11",
          "state": {
            "_cursor": "default",
            "_data_url": "data:image/png;base64,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",
            "_dom_classes": [],
            "_figure_label": "Figure 2",
            "_image_mode": "diff",
            "_message": "",
            "_model_module": "jupyter-matplotlib",
            "_model_module_version": "^0.11",
            "_model_name": "MPLCanvasModel",
            "_rubberband_height": 0,
            "_rubberband_width": 0,
            "_rubberband_x": 0,
            "_rubberband_y": 0,
            "_size": [
              360,
              216
            ],
            "_view_count": null,
            "_view_module": "jupyter-matplotlib",
            "_view_module_version": "^0.11",
            "_view_name": "MPLCanvasView",
            "capture_scroll": false,
            "footer_visible": true,
            "header_visible": true,
            "layout": "IPY_MODEL_960004843f37494b9d208e3e7edf2127",
            "pan_zoom_throttle": 33,
            "resizable": true,
            "toolbar": "IPY_MODEL_bdf86b62bb534a93ac149a2195805466",
            "toolbar_position": "left",
            "toolbar_visible": "fade-in-fade-out"
          }
        },
        "960004843f37494b9d208e3e7edf2127": {
          "model_module": "@jupyter-widgets/base",
          "model_name": "LayoutModel",
          "model_module_version": "1.2.0",
          "state": {
            "_model_module": "@jupyter-widgets/base",
            "_model_module_version": "1.2.0",
            "_model_name": "LayoutModel",
            "_view_count": null,
            "_view_module": "@jupyter-widgets/base",
            "_view_module_version": "1.2.0",
            "_view_name": "LayoutView",
            "align_content": null,
            "align_items": null,
            "align_self": null,
            "border": null,
            "bottom": null,
            "display": null,
            "flex": null,
            "flex_flow": null,
            "grid_area": null,
            "grid_auto_columns": null,
            "grid_auto_flow": null,
            "grid_auto_rows": null,
            "grid_column": null,
            "grid_gap": null,
            "grid_row": null,
            "grid_template_areas": null,
            "grid_template_columns": null,
            "grid_template_rows": null,
            "height": null,
            "justify_content": null,
            "justify_items": null,
            "left": null,
            "margin": null,
            "max_height": null,
            "max_width": null,
            "min_height": null,
            "min_width": null,
            "object_fit": null,
            "object_position": null,
            "order": null,
            "overflow": null,
            "overflow_x": null,
            "overflow_y": null,
            "padding": null,
            "right": null,
            "top": null,
            "visibility": null,
            "width": null
          }
        },
        "bdf86b62bb534a93ac149a2195805466": {
          "model_module": "jupyter-matplotlib",
          "model_name": "ToolbarModel",
          "model_module_version": "^0.11",
          "state": {
            "_current_action": "",
            "_dom_classes": [],
            "_model_module": "jupyter-matplotlib",
            "_model_module_version": "^0.11",
            "_model_name": "ToolbarModel",
            "_view_count": null,
            "_view_module": "jupyter-matplotlib",
            "_view_module_version": "^0.11",
            "_view_name": "ToolbarView",
            "button_style": "",
            "collapsed": true,
            "layout": "IPY_MODEL_a23f40a89cce4301a750497ac3948426",
            "orientation": "vertical",
            "toolitems": [
              [
                "Home",
                "Reset original view",
                "home",
                "home"
              ],
              [
                "Back",
                "Back to previous view",
                "arrow-left",
                "back"
              ],
              [
                "Forward",
                "Forward to next view",
                "arrow-right",
                "forward"
              ],
              [
                "Pan",
                "Left button pans, Right button zooms\nx/y fixes axis, CTRL fixes aspect",
                "arrows",
                "pan"
              ],
              [
                "Zoom",
                "Zoom to rectangle\nx/y fixes axis",
                "square-o",
                "zoom"
              ],
              [
                "Download",
                "Download plot",
                "floppy-o",
                "save_figure"
              ]
            ]
          }
        },
        "a23f40a89cce4301a750497ac3948426": {
          "model_module": "@jupyter-widgets/base",
          "model_name": "LayoutModel",
          "model_module_version": "1.2.0",
          "state": {
            "_model_module": "@jupyter-widgets/base",
            "_model_module_version": "1.2.0",
            "_model_name": "LayoutModel",
            "_view_count": null,
            "_view_module": "@jupyter-widgets/base",
            "_view_module_version": "1.2.0",
            "_view_name": "LayoutView",
            "align_content": null,
            "align_items": null,
            "align_self": null,
            "border": null,
            "bottom": null,
            "display": null,
            "flex": null,
            "flex_flow": null,
            "grid_area": null,
            "grid_auto_columns": null,
            "grid_auto_flow": null,
            "grid_auto_rows": null,
            "grid_column": null,
            "grid_gap": null,
            "grid_row": null,
            "grid_template_areas": null,
            "grid_template_columns": null,
            "grid_template_rows": null,
            "height": null,
            "justify_content": null,
            "justify_items": null,
            "left": null,
            "margin": null,
            "max_height": null,
            "max_width": null,
            "min_height": null,
            "min_width": null,
            "object_fit": null,
            "object_position": null,
            "order": null,
            "overflow": null,
            "overflow_x": null,
            "overflow_y": null,
            "padding": null,
            "right": null,
            "top": null,
            "visibility": null,
            "width": null
          }
        },
        "515b4d2c2fe2412c92adac7f1c9ca84f": {
          "model_module": "@jupyter-widgets/base",
          "model_name": "LayoutModel",
          "model_module_version": "1.2.0",
          "state": {
            "_model_module": "@jupyter-widgets/base",
            "_model_module_version": "1.2.0",
            "_model_name": "LayoutModel",
            "_view_count": null,
            "_view_module": "@jupyter-widgets/base",
            "_view_module_version": "1.2.0",
            "_view_name": "LayoutView",
            "align_content": null,
            "align_items": null,
            "align_self": null,
            "border": null,
            "bottom": null,
            "display": null,
            "flex": null,
            "flex_flow": null,
            "grid_area": null,
            "grid_auto_columns": null,
            "grid_auto_flow": null,
            "grid_auto_rows": null,
            "grid_column": null,
            "grid_gap": null,
            "grid_row": null,
            "grid_template_areas": null,
            "grid_template_columns": null,
            "grid_template_rows": null,
            "height": null,
            "justify_content": null,
            "justify_items": null,
            "left": null,
            "margin": null,
            "max_height": null,
            "max_width": null,
            "min_height": null,
            "min_width": null,
            "object_fit": null,
            "object_position": null,
            "order": null,
            "overflow": null,
            "overflow_x": null,
            "overflow_y": null,
            "padding": null,
            "right": null,
            "top": null,
            "visibility": null,
            "width": null
          }
        },
        "61d491d1e5d74ad99a858543a3b2452b": {
          "model_module": "jupyter-matplotlib",
          "model_name": "ToolbarModel",
          "model_module_version": "^0.11",
          "state": {
            "_current_action": "",
            "_dom_classes": [],
            "_model_module": "jupyter-matplotlib",
            "_model_module_version": "^0.11",
            "_model_name": "ToolbarModel",
            "_view_count": null,
            "_view_module": "jupyter-matplotlib",
            "_view_module_version": "^0.11",
            "_view_name": "ToolbarView",
            "button_style": "",
            "collapsed": true,
            "layout": "IPY_MODEL_515b4d2c2fe2412c92adac7f1c9ca84f",
            "orientation": "vertical",
            "toolitems": [
              [
                "Home",
                "Reset original view",
                "home",
                "home"
              ],
              [
                "Back",
                "Back to previous view",
                "arrow-left",
                "back"
              ],
              [
                "Forward",
                "Forward to next view",
                "arrow-right",
                "forward"
              ],
              [
                "Pan",
                "Left button pans, Right button zooms\nx/y fixes axis, CTRL fixes aspect",
                "arrows",
                "pan"
              ],
              [
                "Zoom",
                "Zoom to rectangle\nx/y fixes axis",
                "square-o",
                "zoom"
              ],
              [
                "Download",
                "Download plot",
                "floppy-o",
                "save_figure"
              ]
            ]
          }
        },
        "ababcb3c3e654bbebee2c3a6a5b4a64d": {
          "model_module": "jupyter-matplotlib",
          "model_name": "MPLCanvasModel",
          "model_module_version": "^0.11",
          "state": {
            "_cursor": "default",
            "_data_url": "data:image/png;base64,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",
            "_dom_classes": [],
            "_figure_label": "Figure 1",
            "_image_mode": "full",
            "_message": "",
            "_model_module": "jupyter-matplotlib",
            "_model_module_version": "^0.11",
            "_model_name": "MPLCanvasModel",
            "_rubberband_height": 0,
            "_rubberband_width": 0,
            "_rubberband_x": 0,
            "_rubberband_y": 0,
            "_size": [
              576,
              288
            ],
            "_view_count": null,
            "_view_module": "jupyter-matplotlib",
            "_view_module_version": "^0.11",
            "_view_name": "MPLCanvasView",
            "capture_scroll": false,
            "footer_visible": false,
            "header_visible": false,
            "layout": "IPY_MODEL_d9ad58a2fd644d91b9e6bb699cdc1f0e",
            "pan_zoom_throttle": 33,
            "resizable": true,
            "toolbar": "IPY_MODEL_fc54ce444bf144d09cfa2c52ef0a2977",
            "toolbar_position": "left",
            "toolbar_visible": false
          }
        },
        "d9ad58a2fd644d91b9e6bb699cdc1f0e": {
          "model_module": "@jupyter-widgets/base",
          "model_name": "LayoutModel",
          "model_module_version": "1.2.0",
          "state": {
            "_model_module": "@jupyter-widgets/base",
            "_model_module_version": "1.2.0",
            "_model_name": "LayoutModel",
            "_view_count": null,
            "_view_module": "@jupyter-widgets/base",
            "_view_module_version": "1.2.0",
            "_view_name": "LayoutView",
            "align_content": null,
            "align_items": null,
            "align_self": null,
            "border": null,
            "bottom": null,
            "display": null,
            "flex": null,
            "flex_flow": null,
            "grid_area": null,
            "grid_auto_columns": null,
            "grid_auto_flow": null,
            "grid_auto_rows": null,
            "grid_column": null,
            "grid_gap": null,
            "grid_row": null,
            "grid_template_areas": null,
            "grid_template_columns": null,
            "grid_template_rows": null,
            "height": null,
            "justify_content": null,
            "justify_items": null,
            "left": null,
            "margin": null,
            "max_height": null,
            "max_width": null,
            "min_height": null,
            "min_width": null,
            "object_fit": null,
            "object_position": null,
            "order": null,
            "overflow": null,
            "overflow_x": null,
            "overflow_y": null,
            "padding": null,
            "right": null,
            "top": null,
            "visibility": null,
            "width": null
          }
        },
        "fc54ce444bf144d09cfa2c52ef0a2977": {
          "model_module": "jupyter-matplotlib",
          "model_name": "ToolbarModel",
          "model_module_version": "^0.11",
          "state": {
            "_current_action": "",
            "_dom_classes": [],
            "_model_module": "jupyter-matplotlib",
            "_model_module_version": "^0.11",
            "_model_name": "ToolbarModel",
            "_view_count": null,
            "_view_module": "jupyter-matplotlib",
            "_view_module_version": "^0.11",
            "_view_name": "ToolbarView",
            "button_style": "",
            "collapsed": true,
            "layout": "IPY_MODEL_bb2eb56b55f34264ab4d98266b43e710",
            "orientation": "vertical",
            "toolitems": [
              [
                "Home",
                "Reset original view",
                "home",
                "home"
              ],
              [
                "Back",
                "Back to previous view",
                "arrow-left",
                "back"
              ],
              [
                "Forward",
                "Forward to next view",
                "arrow-right",
                "forward"
              ],
              [
                "Pan",
                "Left button pans, Right button zooms\nx/y fixes axis, CTRL fixes aspect",
                "arrows",
                "pan"
              ],
              [
                "Zoom",
                "Zoom to rectangle\nx/y fixes axis",
                "square-o",
                "zoom"
              ],
              [
                "Download",
                "Download plot",
                "floppy-o",
                "save_figure"
              ]
            ]
          }
        },
        "bb2eb56b55f34264ab4d98266b43e710": {
          "model_module": "@jupyter-widgets/base",
          "model_name": "LayoutModel",
          "model_module_version": "1.2.0",
          "state": {
            "_model_module": "@jupyter-widgets/base",
            "_model_module_version": "1.2.0",
            "_model_name": "LayoutModel",
            "_view_count": null,
            "_view_module": "@jupyter-widgets/base",
            "_view_module_version": "1.2.0",
            "_view_name": "LayoutView",
            "align_content": null,
            "align_items": null,
            "align_self": null,
            "border": null,
            "bottom": null,
            "display": null,
            "flex": null,
            "flex_flow": null,
            "grid_area": null,
            "grid_auto_columns": null,
            "grid_auto_flow": null,
            "grid_auto_rows": null,
            "grid_column": null,
            "grid_gap": null,
            "grid_row": null,
            "grid_template_areas": null,
            "grid_template_columns": null,
            "grid_template_rows": null,
            "height": null,
            "justify_content": null,
            "justify_items": null,
            "left": null,
            "margin": null,
            "max_height": null,
            "max_width": null,
            "min_height": null,
            "min_width": null,
            "object_fit": null,
            "object_position": null,
            "order": null,
            "overflow": null,
            "overflow_x": null,
            "overflow_y": null,
            "padding": null,
            "right": null,
            "top": null,
            "visibility": null,
            "width": null
          }
        }
      }
    }
  },
  "cells": [
    {
      "cell_type": "markdown",
      "metadata": {
        "id": "view-in-github",
        "colab_type": "text"
      },
      "source": [
        "<a href=\"https://colab.research.google.com/github/EmmaFodor/Phyton/blob/main/Laborator7.ipynb\" target=\"_parent\"><img src=\"https://colab.research.google.com/assets/colab-badge.svg\" alt=\"Open In Colab\"/></a>"
      ]
    },
    {
      "cell_type": "code",
      "execution_count": null,
      "metadata": {
        "colab": {
          "base_uri": "https://localhost:8080/",
          "height": 1000
        },
        "id": "9LhvWvVJPpxc",
        "outputId": "5d024d02-9e30-427b-bbeb-b66409fafacf"
      },
      "outputs": [
        {
          "output_type": "stream",
          "name": "stdout",
          "text": [
            "Looking in indexes: https://pypi.org/simple, https://us-python.pkg.dev/colab-wheels/public/simple/\n",
            "Collecting ipympl\n",
            "  Downloading ipympl-0.9.2-py2.py3-none-any.whl (510 kB)\n",
            "\u001b[2K     \u001b[90m━━━━━━━━━━━━━━━━━━━━━━━━━━━━━━━━━━━━━━━\u001b[0m \u001b[32m510.3/510.3 KB\u001b[0m \u001b[31m8.8 MB/s\u001b[0m eta \u001b[36m0:00:00\u001b[0m\n",
            "\u001b[?25hCollecting matplotlib<4,>=3.4.0\n",
            "  Downloading matplotlib-3.6.3-cp38-cp38-manylinux_2_12_x86_64.manylinux2010_x86_64.whl (9.4 MB)\n",
            "\u001b[2K     \u001b[90m━━━━━━━━━━━━━━━━━━━━━━━━━━━━━━━━━━━━━━━━\u001b[0m \u001b[32m9.4/9.4 MB\u001b[0m \u001b[31m49.3 MB/s\u001b[0m eta \u001b[36m0:00:00\u001b[0m\n",
            "\u001b[?25hRequirement already satisfied: traitlets<6 in /usr/local/lib/python3.8/dist-packages (from ipympl) (5.7.1)\n",
            "Requirement already satisfied: ipywidgets<9,>=7.6.0 in /usr/local/lib/python3.8/dist-packages (from ipympl) (7.7.1)\n",
            "Requirement already satisfied: ipython<9 in /usr/local/lib/python3.8/dist-packages (from ipympl) (7.9.0)\n",
            "Requirement already satisfied: pillow in /usr/local/lib/python3.8/dist-packages (from ipympl) (7.1.2)\n",
            "Requirement already satisfied: numpy in /usr/local/lib/python3.8/dist-packages (from ipympl) (1.21.6)\n",
            "Requirement already satisfied: ipython-genutils in /usr/local/lib/python3.8/dist-packages (from ipympl) (0.2.0)\n",
            "Requirement already satisfied: pygments in /usr/local/lib/python3.8/dist-packages (from ipython<9->ipympl) (2.6.1)\n",
            "Collecting jedi>=0.10\n",
            "  Downloading jedi-0.18.2-py2.py3-none-any.whl (1.6 MB)\n",
            "\u001b[2K     \u001b[90m━━━━━━━━━━━━━━━━━━━━━━━━━━━━━━━━━━━━━━━━\u001b[0m \u001b[32m1.6/1.6 MB\u001b[0m \u001b[31m42.7 MB/s\u001b[0m eta \u001b[36m0:00:00\u001b[0m\n",
            "\u001b[?25hRequirement already satisfied: backcall in /usr/local/lib/python3.8/dist-packages (from ipython<9->ipympl) (0.2.0)\n",
            "Requirement already satisfied: pexpect in /usr/local/lib/python3.8/dist-packages (from ipython<9->ipympl) (4.8.0)\n",
            "Requirement already satisfied: decorator in /usr/local/lib/python3.8/dist-packages (from ipython<9->ipympl) (4.4.2)\n",
            "Requirement already satisfied: prompt-toolkit<2.1.0,>=2.0.0 in /usr/local/lib/python3.8/dist-packages (from ipython<9->ipympl) (2.0.10)\n",
            "Requirement already satisfied: setuptools>=18.5 in /usr/local/lib/python3.8/dist-packages (from ipython<9->ipympl) (57.4.0)\n",
            "Requirement already satisfied: pickleshare in /usr/local/lib/python3.8/dist-packages (from ipython<9->ipympl) (0.7.5)\n",
            "Requirement already satisfied: widgetsnbextension~=3.6.0 in /usr/local/lib/python3.8/dist-packages (from ipywidgets<9,>=7.6.0->ipympl) (3.6.1)\n",
            "Requirement already satisfied: jupyterlab-widgets>=1.0.0 in /usr/local/lib/python3.8/dist-packages (from ipywidgets<9,>=7.6.0->ipympl) (3.0.5)\n",
            "Requirement already satisfied: ipykernel>=4.5.1 in /usr/local/lib/python3.8/dist-packages (from ipywidgets<9,>=7.6.0->ipympl) (5.3.4)\n",
            "Collecting contourpy>=1.0.1\n",
            "  Downloading contourpy-1.0.6-cp38-cp38-manylinux_2_17_x86_64.manylinux2014_x86_64.whl (295 kB)\n",
            "\u001b[2K     \u001b[90m━━━━━━━━━━━━━━━━━━━━━━━━━━━━━━━━━━━━━━\u001b[0m \u001b[32m296.0/296.0 KB\u001b[0m \u001b[31m20.3 MB/s\u001b[0m eta \u001b[36m0:00:00\u001b[0m\n",
            "\u001b[?25hRequirement already satisfied: cycler>=0.10 in /usr/local/lib/python3.8/dist-packages (from matplotlib<4,>=3.4.0->ipympl) (0.11.0)\n",
            "Requirement already satisfied: python-dateutil>=2.7 in /usr/local/lib/python3.8/dist-packages (from matplotlib<4,>=3.4.0->ipympl) (2.8.2)\n",
            "Requirement already satisfied: pyparsing>=2.2.1 in /usr/local/lib/python3.8/dist-packages (from matplotlib<4,>=3.4.0->ipympl) (3.0.9)\n",
            "Collecting fonttools>=4.22.0\n",
            "  Downloading fonttools-4.38.0-py3-none-any.whl (965 kB)\n",
            "\u001b[2K     \u001b[90m━━━━━━━━━━━━━━━━━━━━━━━━━━━━━━━━━━━━━━\u001b[0m \u001b[32m965.4/965.4 KB\u001b[0m \u001b[31m40.9 MB/s\u001b[0m eta \u001b[36m0:00:00\u001b[0m\n",
            "\u001b[?25hRequirement already satisfied: kiwisolver>=1.0.1 in /usr/local/lib/python3.8/dist-packages (from matplotlib<4,>=3.4.0->ipympl) (1.4.4)\n",
            "Requirement already satisfied: packaging>=20.0 in /usr/local/lib/python3.8/dist-packages (from matplotlib<4,>=3.4.0->ipympl) (21.3)\n",
            "Requirement already satisfied: jupyter-client in /usr/local/lib/python3.8/dist-packages (from ipykernel>=4.5.1->ipywidgets<9,>=7.6.0->ipympl) (6.1.12)\n",
            "Requirement already satisfied: tornado>=4.2 in /usr/local/lib/python3.8/dist-packages (from ipykernel>=4.5.1->ipywidgets<9,>=7.6.0->ipympl) (6.0.4)\n",
            "Requirement already satisfied: parso<0.9.0,>=0.8.0 in /usr/local/lib/python3.8/dist-packages (from jedi>=0.10->ipython<9->ipympl) (0.8.3)\n",
            "Requirement already satisfied: wcwidth in /usr/local/lib/python3.8/dist-packages (from prompt-toolkit<2.1.0,>=2.0.0->ipython<9->ipympl) (0.2.5)\n",
            "Requirement already satisfied: six>=1.9.0 in /usr/local/lib/python3.8/dist-packages (from prompt-toolkit<2.1.0,>=2.0.0->ipython<9->ipympl) (1.15.0)\n",
            "Requirement already satisfied: notebook>=4.4.1 in /usr/local/lib/python3.8/dist-packages (from widgetsnbextension~=3.6.0->ipywidgets<9,>=7.6.0->ipympl) (5.7.16)\n",
            "Requirement already satisfied: ptyprocess>=0.5 in /usr/local/lib/python3.8/dist-packages (from pexpect->ipython<9->ipympl) (0.7.0)\n",
            "Requirement already satisfied: jupyter-core>=4.4.0 in /usr/local/lib/python3.8/dist-packages (from notebook>=4.4.1->widgetsnbextension~=3.6.0->ipywidgets<9,>=7.6.0->ipympl) (5.1.2)\n",
            "Requirement already satisfied: nbconvert<6.0 in /usr/local/lib/python3.8/dist-packages (from notebook>=4.4.1->widgetsnbextension~=3.6.0->ipywidgets<9,>=7.6.0->ipympl) (5.6.1)\n",
            "Requirement already satisfied: Send2Trash in /usr/local/lib/python3.8/dist-packages (from notebook>=4.4.1->widgetsnbextension~=3.6.0->ipywidgets<9,>=7.6.0->ipympl) (1.8.0)\n",
            "Requirement already satisfied: prometheus-client in /usr/local/lib/python3.8/dist-packages (from notebook>=4.4.1->widgetsnbextension~=3.6.0->ipywidgets<9,>=7.6.0->ipympl) (0.15.0)\n",
            "Requirement already satisfied: nbformat in /usr/local/lib/python3.8/dist-packages (from notebook>=4.4.1->widgetsnbextension~=3.6.0->ipywidgets<9,>=7.6.0->ipympl) (5.7.1)\n",
            "Requirement already satisfied: jinja2<=3.0.0 in /usr/local/lib/python3.8/dist-packages (from notebook>=4.4.1->widgetsnbextension~=3.6.0->ipywidgets<9,>=7.6.0->ipympl) (2.11.3)\n",
            "Requirement already satisfied: terminado>=0.8.1 in /usr/local/lib/python3.8/dist-packages (from notebook>=4.4.1->widgetsnbextension~=3.6.0->ipywidgets<9,>=7.6.0->ipympl) (0.13.3)\n",
            "Requirement already satisfied: pyzmq>=17 in /usr/local/lib/python3.8/dist-packages (from notebook>=4.4.1->widgetsnbextension~=3.6.0->ipywidgets<9,>=7.6.0->ipympl) (23.2.1)\n",
            "Requirement already satisfied: MarkupSafe>=0.23 in /usr/local/lib/python3.8/dist-packages (from jinja2<=3.0.0->notebook>=4.4.1->widgetsnbextension~=3.6.0->ipywidgets<9,>=7.6.0->ipympl) (2.0.1)\n",
            "Requirement already satisfied: platformdirs>=2.5 in /usr/local/lib/python3.8/dist-packages (from jupyter-core>=4.4.0->notebook>=4.4.1->widgetsnbextension~=3.6.0->ipywidgets<9,>=7.6.0->ipympl) (2.6.2)\n",
            "Requirement already satisfied: testpath in /usr/local/lib/python3.8/dist-packages (from nbconvert<6.0->notebook>=4.4.1->widgetsnbextension~=3.6.0->ipywidgets<9,>=7.6.0->ipympl) (0.6.0)\n",
            "Requirement already satisfied: bleach in /usr/local/lib/python3.8/dist-packages (from nbconvert<6.0->notebook>=4.4.1->widgetsnbextension~=3.6.0->ipywidgets<9,>=7.6.0->ipympl) (5.0.1)\n",
            "Requirement already satisfied: mistune<2,>=0.8.1 in /usr/local/lib/python3.8/dist-packages (from nbconvert<6.0->notebook>=4.4.1->widgetsnbextension~=3.6.0->ipywidgets<9,>=7.6.0->ipympl) (0.8.4)\n",
            "Requirement already satisfied: defusedxml in /usr/local/lib/python3.8/dist-packages (from nbconvert<6.0->notebook>=4.4.1->widgetsnbextension~=3.6.0->ipywidgets<9,>=7.6.0->ipympl) (0.7.1)\n",
            "Requirement already satisfied: pandocfilters>=1.4.1 in /usr/local/lib/python3.8/dist-packages (from nbconvert<6.0->notebook>=4.4.1->widgetsnbextension~=3.6.0->ipywidgets<9,>=7.6.0->ipympl) (1.5.0)\n",
            "Requirement already satisfied: entrypoints>=0.2.2 in /usr/local/lib/python3.8/dist-packages (from nbconvert<6.0->notebook>=4.4.1->widgetsnbextension~=3.6.0->ipywidgets<9,>=7.6.0->ipympl) (0.4)\n",
            "Requirement already satisfied: jsonschema>=2.6 in /usr/local/lib/python3.8/dist-packages (from nbformat->notebook>=4.4.1->widgetsnbextension~=3.6.0->ipywidgets<9,>=7.6.0->ipympl) (4.3.3)\n",
            "Requirement already satisfied: fastjsonschema in /usr/local/lib/python3.8/dist-packages (from nbformat->notebook>=4.4.1->widgetsnbextension~=3.6.0->ipywidgets<9,>=7.6.0->ipympl) (2.16.2)\n",
            "Requirement already satisfied: attrs>=17.4.0 in /usr/local/lib/python3.8/dist-packages (from jsonschema>=2.6->nbformat->notebook>=4.4.1->widgetsnbextension~=3.6.0->ipywidgets<9,>=7.6.0->ipympl) (22.2.0)\n",
            "Requirement already satisfied: pyrsistent!=0.17.0,!=0.17.1,!=0.17.2,>=0.14.0 in /usr/local/lib/python3.8/dist-packages (from jsonschema>=2.6->nbformat->notebook>=4.4.1->widgetsnbextension~=3.6.0->ipywidgets<9,>=7.6.0->ipympl) (0.19.3)\n",
            "Requirement already satisfied: importlib-resources>=1.4.0 in /usr/local/lib/python3.8/dist-packages (from jsonschema>=2.6->nbformat->notebook>=4.4.1->widgetsnbextension~=3.6.0->ipywidgets<9,>=7.6.0->ipympl) (5.10.2)\n",
            "Requirement already satisfied: webencodings in /usr/local/lib/python3.8/dist-packages (from bleach->nbconvert<6.0->notebook>=4.4.1->widgetsnbextension~=3.6.0->ipywidgets<9,>=7.6.0->ipympl) (0.5.1)\n",
            "Requirement already satisfied: zipp>=3.1.0 in /usr/local/lib/python3.8/dist-packages (from importlib-resources>=1.4.0->jsonschema>=2.6->nbformat->notebook>=4.4.1->widgetsnbextension~=3.6.0->ipywidgets<9,>=7.6.0->ipympl) (3.11.0)\n",
            "Installing collected packages: jedi, fonttools, contourpy, matplotlib, ipympl\n",
            "  Attempting uninstall: matplotlib\n",
            "    Found existing installation: matplotlib 3.2.2\n",
            "    Uninstalling matplotlib-3.2.2:\n",
            "      Successfully uninstalled matplotlib-3.2.2\n",
            "Successfully installed contourpy-1.0.6 fonttools-4.38.0 ipympl-0.9.2 jedi-0.18.2 matplotlib-3.6.3\n"
          ]
        },
        {
          "output_type": "display_data",
          "data": {
            "application/vnd.colab-display-data+json": {
              "pip_warning": {
                "packages": [
                  "matplotlib",
                  "mpl_toolkits"
                ]
              }
            }
          },
          "metadata": {}
        }
      ],
      "source": [
        "!pip install ipympl # in Google Colab"
      ]
    },
    {
      "cell_type": "code",
      "source": [
        "from google.colab import output\n",
        "output.enable_custom_widget_manager() # utilizare widget"
      ],
      "metadata": {
        "id": "qrc2lPQZQCQf"
      },
      "execution_count": null,
      "outputs": []
    },
    {
      "cell_type": "code",
      "source": [
        "import numpy as np\n",
        "%matplotlib widget\n",
        "import matplotlib.pyplot as plt\n",
        "from lab_utils_common import dlc, plot_data\n",
        "from plt_one_addpt_onclick import plt_one_addpt_onclick\n",
        "plt.style.use('./deeplearning.mplstyle')"
      ],
      "metadata": {
        "id": "ZScYlxUJPwbB"
      },
      "execution_count": null,
      "outputs": []
    },
    {
      "cell_type": "code",
      "source": [
        "x_train = np.array([0., 1, 2, 3, 4, 5]) #o singura variabila\n",
        "y_train = np.array([0, 0, 0, 1, 1, 1])\n",
        "X_train2 = np.array([[0.5, 1.5], [1,1], [1.5, 0.5], [3, 0.5], [2, 2], [1,\n",
        "2.5]]) #doua variabile\n",
        "y_train2 = np.array([0, 0, 0, 1, 1, 1])"
      ],
      "metadata": {
        "id": "TdGhNoNhR3ID"
      },
      "execution_count": null,
      "outputs": []
    },
    {
      "cell_type": "code",
      "source": [
        "pos = y_train == 1\n",
        "neg = y_train == 0"
      ],
      "metadata": {
        "id": "eWMVNnJMTMWQ"
      },
      "execution_count": null,
      "outputs": []
    },
    {
      "cell_type": "code",
      "source": [
        "fig,ax = plt.subplots(1,2,figsize=(8,3)) #plot set 1\n",
        "ax[0].scatter(x_train[pos], y_train[pos], marker='x', s=80, c = 'red', label=\"y=1\")\n",
        "ax[0].scatter(x_train[neg], y_train[neg], marker='o', s=100, label=\"y=0\", facecolors='none', edgecolors=dlc[\"dlblue\"],lw=3)\n",
        "ax[0].set_ylim(-0.08,1.1)\n",
        "ax[0].set_ylabel('y', fontsize=12)\n",
        "ax[0].set_xlabel('x', fontsize=12)\n",
        "ax[0].set_title('o singura variabila')\n",
        "ax[0].legend()\n",
        "#plot set 2\n",
        "plot_data(X_train2, y_train2, ax[1])\n",
        "ax[1].axis([0, 4, 0, 4])\n",
        "ax[1].set_ylabel('$x_1$', fontsize=12)\n",
        "ax[1].set_xlabel('$x_0$', fontsize=12)\n",
        "ax[1].set_title('doua variabile')\n",
        "ax[1].legend()\n",
        "plt.tight_layout()\n",
        "plt.show()\n"
      ],
      "metadata": {
        "colab": {
          "base_uri": "https://localhost:8080/",
          "height": 381
        },
        "id": "zeYVB6BLR7jN",
        "outputId": "03d661a6-8c93-412d-cb33-68bb92487eaa"
      },
      "execution_count": null,
      "outputs": [
        {
          "output_type": "error",
          "ename": "NotImplementedError",
          "evalue": "ignored",
          "traceback": [
            "\u001b[0;31m---------------------------------------------------------------------------\u001b[0m",
            "\u001b[0;31mNotImplementedError\u001b[0m                       Traceback (most recent call last)",
            "\u001b[0;32m<ipython-input-12-6d6848e7fc6d>\u001b[0m in \u001b[0;36m<module>\u001b[0;34m\u001b[0m\n\u001b[0;32m----> 1\u001b[0;31m \u001b[0mfig\u001b[0m\u001b[0;34m,\u001b[0m\u001b[0max\u001b[0m \u001b[0;34m=\u001b[0m \u001b[0mplt\u001b[0m\u001b[0;34m.\u001b[0m\u001b[0msubplots\u001b[0m\u001b[0;34m(\u001b[0m\u001b[0;36m1\u001b[0m\u001b[0;34m,\u001b[0m\u001b[0;36m2\u001b[0m\u001b[0;34m,\u001b[0m\u001b[0mfigsize\u001b[0m\u001b[0;34m=\u001b[0m\u001b[0;34m(\u001b[0m\u001b[0;36m8\u001b[0m\u001b[0;34m,\u001b[0m\u001b[0;36m3\u001b[0m\u001b[0;34m)\u001b[0m\u001b[0;34m)\u001b[0m \u001b[0;31m#plot set 1\u001b[0m\u001b[0;34m\u001b[0m\u001b[0;34m\u001b[0m\u001b[0m\n\u001b[0m\u001b[1;32m      2\u001b[0m \u001b[0max\u001b[0m\u001b[0;34m[\u001b[0m\u001b[0;36m0\u001b[0m\u001b[0;34m]\u001b[0m\u001b[0;34m.\u001b[0m\u001b[0mscatter\u001b[0m\u001b[0;34m(\u001b[0m\u001b[0mx_train\u001b[0m\u001b[0;34m[\u001b[0m\u001b[0mpos\u001b[0m\u001b[0;34m]\u001b[0m\u001b[0;34m,\u001b[0m \u001b[0my_train\u001b[0m\u001b[0;34m[\u001b[0m\u001b[0mpos\u001b[0m\u001b[0;34m]\u001b[0m\u001b[0;34m,\u001b[0m \u001b[0mmarker\u001b[0m\u001b[0;34m=\u001b[0m\u001b[0;34m'x'\u001b[0m\u001b[0;34m,\u001b[0m \u001b[0ms\u001b[0m\u001b[0;34m=\u001b[0m\u001b[0;36m80\u001b[0m\u001b[0;34m,\u001b[0m \u001b[0mc\u001b[0m \u001b[0;34m=\u001b[0m \u001b[0;34m'red'\u001b[0m\u001b[0;34m,\u001b[0m \u001b[0mlabel\u001b[0m\u001b[0;34m=\u001b[0m\u001b[0;34m\"y=1\"\u001b[0m\u001b[0;34m)\u001b[0m\u001b[0;34m\u001b[0m\u001b[0;34m\u001b[0m\u001b[0m\n\u001b[1;32m      3\u001b[0m \u001b[0max\u001b[0m\u001b[0;34m[\u001b[0m\u001b[0;36m0\u001b[0m\u001b[0;34m]\u001b[0m\u001b[0;34m.\u001b[0m\u001b[0mscatter\u001b[0m\u001b[0;34m(\u001b[0m\u001b[0mx_train\u001b[0m\u001b[0;34m[\u001b[0m\u001b[0mneg\u001b[0m\u001b[0;34m]\u001b[0m\u001b[0;34m,\u001b[0m \u001b[0my_train\u001b[0m\u001b[0;34m[\u001b[0m\u001b[0mneg\u001b[0m\u001b[0;34m]\u001b[0m\u001b[0;34m,\u001b[0m \u001b[0mmarker\u001b[0m\u001b[0;34m=\u001b[0m\u001b[0;34m'o'\u001b[0m\u001b[0;34m,\u001b[0m \u001b[0ms\u001b[0m\u001b[0;34m=\u001b[0m\u001b[0;36m100\u001b[0m\u001b[0;34m,\u001b[0m \u001b[0mlabel\u001b[0m\u001b[0;34m=\u001b[0m\u001b[0;34m\"y=0\"\u001b[0m\u001b[0;34m,\u001b[0m \u001b[0mfacecolors\u001b[0m\u001b[0;34m=\u001b[0m\u001b[0;34m'none'\u001b[0m\u001b[0;34m,\u001b[0m \u001b[0medgecolors\u001b[0m\u001b[0;34m=\u001b[0m\u001b[0mdlc\u001b[0m\u001b[0;34m[\u001b[0m\u001b[0;34m\"dlblue\"\u001b[0m\u001b[0;34m]\u001b[0m\u001b[0;34m,\u001b[0m\u001b[0mlw\u001b[0m\u001b[0;34m=\u001b[0m\u001b[0;36m3\u001b[0m\u001b[0;34m)\u001b[0m\u001b[0;34m\u001b[0m\u001b[0;34m\u001b[0m\u001b[0m\n\u001b[1;32m      4\u001b[0m \u001b[0max\u001b[0m\u001b[0;34m[\u001b[0m\u001b[0;36m0\u001b[0m\u001b[0;34m]\u001b[0m\u001b[0;34m.\u001b[0m\u001b[0mset_ylim\u001b[0m\u001b[0;34m(\u001b[0m\u001b[0;34m-\u001b[0m\u001b[0;36m0.08\u001b[0m\u001b[0;34m,\u001b[0m\u001b[0;36m1.1\u001b[0m\u001b[0;34m)\u001b[0m\u001b[0;34m\u001b[0m\u001b[0;34m\u001b[0m\u001b[0m\n\u001b[1;32m      5\u001b[0m \u001b[0max\u001b[0m\u001b[0;34m[\u001b[0m\u001b[0;36m0\u001b[0m\u001b[0;34m]\u001b[0m\u001b[0;34m.\u001b[0m\u001b[0mset_ylabel\u001b[0m\u001b[0;34m(\u001b[0m\u001b[0;34m'y'\u001b[0m\u001b[0;34m,\u001b[0m \u001b[0mfontsize\u001b[0m\u001b[0;34m=\u001b[0m\u001b[0;36m12\u001b[0m\u001b[0;34m)\u001b[0m\u001b[0;34m\u001b[0m\u001b[0;34m\u001b[0m\u001b[0m\n",
            "\u001b[0;32m/usr/local/lib/python3.8/dist-packages/matplotlib/pyplot.py\u001b[0m in \u001b[0;36msubplots\u001b[0;34m(nrows, ncols, sharex, sharey, squeeze, subplot_kw, gridspec_kw, **fig_kw)\u001b[0m\n\u001b[1;32m   1175\u001b[0m     \u001b[0moverlaps\u001b[0m \u001b[0;32mwith\u001b[0m \u001b[0mit\u001b[0m \u001b[0mbeyond\u001b[0m \u001b[0msharing\u001b[0m \u001b[0ma\u001b[0m \u001b[0mboundary\u001b[0m\u001b[0;34m:\u001b[0m\u001b[0;34m:\u001b[0m\u001b[0;34m\u001b[0m\u001b[0;34m\u001b[0m\u001b[0m\n\u001b[1;32m   1176\u001b[0m \u001b[0;34m\u001b[0m\u001b[0m\n\u001b[0;32m-> 1177\u001b[0;31m         \u001b[0;32mimport\u001b[0m \u001b[0mmatplotlib\u001b[0m\u001b[0;34m.\u001b[0m\u001b[0mpyplot\u001b[0m \u001b[0;32mas\u001b[0m \u001b[0mplt\u001b[0m\u001b[0;34m\u001b[0m\u001b[0;34m\u001b[0m\u001b[0m\n\u001b[0m\u001b[1;32m   1178\u001b[0m         \u001b[0;31m# plot a line, implicitly creating a subplot(111)\u001b[0m\u001b[0;34m\u001b[0m\u001b[0;34m\u001b[0m\u001b[0;34m\u001b[0m\u001b[0m\n\u001b[1;32m   1179\u001b[0m         \u001b[0mplt\u001b[0m\u001b[0;34m.\u001b[0m\u001b[0mplot\u001b[0m\u001b[0;34m(\u001b[0m\u001b[0;34m[\u001b[0m\u001b[0;36m1\u001b[0m\u001b[0;34m,\u001b[0m \u001b[0;36m2\u001b[0m\u001b[0;34m,\u001b[0m \u001b[0;36m3\u001b[0m\u001b[0;34m]\u001b[0m\u001b[0;34m)\u001b[0m\u001b[0;34m\u001b[0m\u001b[0;34m\u001b[0m\u001b[0m\n",
            "\u001b[0;32m/usr/local/lib/python3.8/dist-packages/matplotlib/pyplot.py\u001b[0m in \u001b[0;36mfigure\u001b[0;34m(num, figsize, dpi, facecolor, edgecolor, frameon, FigureClass, clear, **kwargs)\u001b[0m\n\u001b[1;32m    538\u001b[0m     \u001b[0mIf\u001b[0m \u001b[0mthere\u001b[0m \u001b[0;32mis\u001b[0m \u001b[0man\u001b[0m \u001b[0mactive\u001b[0m \u001b[0mfigure\u001b[0m\u001b[0;34m,\u001b[0m \u001b[0mit\u001b[0m \u001b[0mwill\u001b[0m \u001b[0mbe\u001b[0m \u001b[0mupdated\u001b[0m \u001b[0;32mand\u001b[0m \u001b[0mdisplayed\u001b[0m \u001b[0mbefore\u001b[0m \u001b[0mthe\u001b[0m\u001b[0;34m\u001b[0m\u001b[0;34m\u001b[0m\u001b[0m\n\u001b[1;32m    539\u001b[0m     \u001b[0mpause\u001b[0m\u001b[0;34m,\u001b[0m \u001b[0;32mand\u001b[0m \u001b[0mthe\u001b[0m \u001b[0mGUI\u001b[0m \u001b[0mevent\u001b[0m \u001b[0mloop\u001b[0m \u001b[0;34m(\u001b[0m\u001b[0;32mif\u001b[0m \u001b[0many\u001b[0m\u001b[0;34m)\u001b[0m \u001b[0mwill\u001b[0m \u001b[0mrun\u001b[0m \u001b[0mduring\u001b[0m \u001b[0mthe\u001b[0m \u001b[0mpause\u001b[0m\u001b[0;34m.\u001b[0m\u001b[0;34m\u001b[0m\u001b[0;34m\u001b[0m\u001b[0m\n\u001b[0;32m--> 540\u001b[0;31m \u001b[0;34m\u001b[0m\u001b[0m\n\u001b[0m\u001b[1;32m    541\u001b[0m     \u001b[0mThis\u001b[0m \u001b[0mcan\u001b[0m \u001b[0mbe\u001b[0m \u001b[0mused\u001b[0m \u001b[0;32mfor\u001b[0m \u001b[0mcrude\u001b[0m \u001b[0manimation\u001b[0m\u001b[0;34m.\u001b[0m  \u001b[0mFor\u001b[0m \u001b[0mmore\u001b[0m \u001b[0mcomplex\u001b[0m \u001b[0manimation\u001b[0m \u001b[0muse\u001b[0m\u001b[0;34m\u001b[0m\u001b[0;34m\u001b[0m\u001b[0m\n\u001b[1;32m    542\u001b[0m     \u001b[0;34m:\u001b[0m\u001b[0mmod\u001b[0m\u001b[0;34m:\u001b[0m\u001b[0;31m`\u001b[0m\u001b[0mmatplotlib\u001b[0m\u001b[0;34m.\u001b[0m\u001b[0manimation\u001b[0m\u001b[0;31m`\u001b[0m\u001b[0;34m.\u001b[0m\u001b[0;34m\u001b[0m\u001b[0;34m\u001b[0m\u001b[0m\n",
            "\u001b[0;32m/usr/local/lib/python3.8/dist-packages/matplotlib/backend_bases.py\u001b[0m in \u001b[0;36mnew_figure_manager\u001b[0;34m(cls, num, *args, **kwargs)\u001b[0m\n\u001b[1;32m   3356\u001b[0m \u001b[0;34m\u001b[0m\u001b[0m\n\u001b[1;32m   3357\u001b[0m         \u001b[0mThis\u001b[0m \u001b[0monly\u001b[0m \u001b[0mgets\u001b[0m \u001b[0mused\u001b[0m \u001b[0;32mfor\u001b[0m \u001b[0mtoggled\u001b[0m \u001b[0mtools\u001b[0m\u001b[0;34m.\u001b[0m\u001b[0;34m\u001b[0m\u001b[0;34m\u001b[0m\u001b[0m\n\u001b[0;32m-> 3358\u001b[0;31m         \"\"\"\n\u001b[0m\u001b[1;32m   3359\u001b[0m         \u001b[0mself\u001b[0m\u001b[0;34m.\u001b[0m\u001b[0mtoggle_toolitem\u001b[0m\u001b[0;34m(\u001b[0m\u001b[0mevent\u001b[0m\u001b[0;34m.\u001b[0m\u001b[0mtool\u001b[0m\u001b[0;34m.\u001b[0m\u001b[0mname\u001b[0m\u001b[0;34m,\u001b[0m \u001b[0mevent\u001b[0m\u001b[0;34m.\u001b[0m\u001b[0mtool\u001b[0m\u001b[0;34m.\u001b[0m\u001b[0mtoggled\u001b[0m\u001b[0;34m)\u001b[0m\u001b[0;34m\u001b[0m\u001b[0;34m\u001b[0m\u001b[0m\n\u001b[1;32m   3360\u001b[0m \u001b[0;34m\u001b[0m\u001b[0m\n",
            "\u001b[0;32m/usr/local/lib/python3.8/dist-packages/ipympl/backend_nbagg.py\u001b[0m in \u001b[0;36mnew_figure_manager_given_figure\u001b[0;34m(num, figure)\u001b[0m\n\u001b[1;32m    485\u001b[0m         \u001b[0;32mif\u001b[0m \u001b[0;34m'nbagg.transparent'\u001b[0m \u001b[0;32min\u001b[0m \u001b[0mrcParams\u001b[0m \u001b[0;32mand\u001b[0m \u001b[0mrcParams\u001b[0m\u001b[0;34m[\u001b[0m\u001b[0;34m'nbagg.transparent'\u001b[0m\u001b[0;34m]\u001b[0m\u001b[0;34m:\u001b[0m\u001b[0;34m\u001b[0m\u001b[0;34m\u001b[0m\u001b[0m\n\u001b[1;32m    486\u001b[0m             \u001b[0mfigure\u001b[0m\u001b[0;34m.\u001b[0m\u001b[0mpatch\u001b[0m\u001b[0;34m.\u001b[0m\u001b[0mset_alpha\u001b[0m\u001b[0;34m(\u001b[0m\u001b[0;36m0\u001b[0m\u001b[0;34m)\u001b[0m\u001b[0;34m\u001b[0m\u001b[0;34m\u001b[0m\u001b[0m\n\u001b[0;32m--> 487\u001b[0;31m         \u001b[0mmanager\u001b[0m \u001b[0;34m=\u001b[0m \u001b[0mFigureManager\u001b[0m\u001b[0;34m(\u001b[0m\u001b[0mcanvas\u001b[0m\u001b[0;34m,\u001b[0m \u001b[0mnum\u001b[0m\u001b[0;34m)\u001b[0m\u001b[0;34m\u001b[0m\u001b[0;34m\u001b[0m\u001b[0m\n\u001b[0m\u001b[1;32m    488\u001b[0m \u001b[0;34m\u001b[0m\u001b[0m\n\u001b[1;32m    489\u001b[0m         \u001b[0;32mif\u001b[0m \u001b[0mis_interactive\u001b[0m\u001b[0;34m(\u001b[0m\u001b[0;34m)\u001b[0m\u001b[0;34m:\u001b[0m\u001b[0;34m\u001b[0m\u001b[0;34m\u001b[0m\u001b[0m\n",
            "\u001b[0;32m/usr/local/lib/python3.8/dist-packages/ipympl/backend_nbagg.py\u001b[0m in \u001b[0;36m__init__\u001b[0;34m(self, canvas, num)\u001b[0m\n\u001b[1;32m    459\u001b[0m         \u001b[0mFigureManagerWebAgg\u001b[0m\u001b[0;34m.\u001b[0m\u001b[0m__init__\u001b[0m\u001b[0;34m(\u001b[0m\u001b[0mself\u001b[0m\u001b[0;34m,\u001b[0m \u001b[0mcanvas\u001b[0m\u001b[0;34m,\u001b[0m \u001b[0mnum\u001b[0m\u001b[0;34m)\u001b[0m\u001b[0;34m\u001b[0m\u001b[0;34m\u001b[0m\u001b[0m\n\u001b[1;32m    460\u001b[0m         \u001b[0mself\u001b[0m\u001b[0;34m.\u001b[0m\u001b[0mweb_sockets\u001b[0m \u001b[0;34m=\u001b[0m \u001b[0;34m[\u001b[0m\u001b[0mself\u001b[0m\u001b[0;34m.\u001b[0m\u001b[0mcanvas\u001b[0m\u001b[0;34m]\u001b[0m\u001b[0;34m\u001b[0m\u001b[0;34m\u001b[0m\u001b[0m\n\u001b[0;32m--> 461\u001b[0;31m         \u001b[0mself\u001b[0m\u001b[0;34m.\u001b[0m\u001b[0mtoolbar\u001b[0m \u001b[0;34m=\u001b[0m \u001b[0mToolbar\u001b[0m\u001b[0;34m(\u001b[0m\u001b[0mself\u001b[0m\u001b[0;34m.\u001b[0m\u001b[0mcanvas\u001b[0m\u001b[0;34m)\u001b[0m\u001b[0;34m\u001b[0m\u001b[0;34m\u001b[0m\u001b[0m\n\u001b[0m\u001b[1;32m    462\u001b[0m \u001b[0;34m\u001b[0m\u001b[0m\n\u001b[1;32m    463\u001b[0m     \u001b[0;32mdef\u001b[0m \u001b[0mshow\u001b[0m\u001b[0;34m(\u001b[0m\u001b[0mself\u001b[0m\u001b[0;34m)\u001b[0m\u001b[0;34m:\u001b[0m\u001b[0;34m\u001b[0m\u001b[0;34m\u001b[0m\u001b[0m\n",
            "\u001b[0;32m/usr/local/lib/python3.8/dist-packages/ipympl/backend_nbagg.py\u001b[0m in \u001b[0;36m__init__\u001b[0;34m(self, canvas, *args, **kwargs)\u001b[0m\n\u001b[1;32m    120\u001b[0m     \u001b[0;32mdef\u001b[0m \u001b[0m__init__\u001b[0m\u001b[0;34m(\u001b[0m\u001b[0mself\u001b[0m\u001b[0;34m,\u001b[0m \u001b[0mcanvas\u001b[0m\u001b[0;34m,\u001b[0m \u001b[0;34m*\u001b[0m\u001b[0margs\u001b[0m\u001b[0;34m,\u001b[0m \u001b[0;34m**\u001b[0m\u001b[0mkwargs\u001b[0m\u001b[0;34m)\u001b[0m\u001b[0;34m:\u001b[0m\u001b[0;34m\u001b[0m\u001b[0;34m\u001b[0m\u001b[0m\n\u001b[1;32m    121\u001b[0m         \u001b[0mDOMWidget\u001b[0m\u001b[0;34m.\u001b[0m\u001b[0m__init__\u001b[0m\u001b[0;34m(\u001b[0m\u001b[0mself\u001b[0m\u001b[0;34m,\u001b[0m \u001b[0;34m*\u001b[0m\u001b[0margs\u001b[0m\u001b[0;34m,\u001b[0m \u001b[0;34m**\u001b[0m\u001b[0mkwargs\u001b[0m\u001b[0;34m)\u001b[0m\u001b[0;34m\u001b[0m\u001b[0;34m\u001b[0m\u001b[0m\n\u001b[0;32m--> 122\u001b[0;31m         \u001b[0mNavigationToolbar2WebAgg\u001b[0m\u001b[0;34m.\u001b[0m\u001b[0m__init__\u001b[0m\u001b[0;34m(\u001b[0m\u001b[0mself\u001b[0m\u001b[0;34m,\u001b[0m \u001b[0mcanvas\u001b[0m\u001b[0;34m,\u001b[0m \u001b[0;34m*\u001b[0m\u001b[0margs\u001b[0m\u001b[0;34m,\u001b[0m \u001b[0;34m**\u001b[0m\u001b[0mkwargs\u001b[0m\u001b[0;34m)\u001b[0m\u001b[0;34m\u001b[0m\u001b[0;34m\u001b[0m\u001b[0m\n\u001b[0m\u001b[1;32m    123\u001b[0m \u001b[0;34m\u001b[0m\u001b[0m\n\u001b[1;32m    124\u001b[0m         \u001b[0mself\u001b[0m\u001b[0;34m.\u001b[0m\u001b[0mon_msg\u001b[0m\u001b[0;34m(\u001b[0m\u001b[0mself\u001b[0m\u001b[0;34m.\u001b[0m\u001b[0mcanvas\u001b[0m\u001b[0;34m.\u001b[0m\u001b[0m_handle_message\u001b[0m\u001b[0;34m)\u001b[0m\u001b[0;34m\u001b[0m\u001b[0;34m\u001b[0m\u001b[0m\n",
            "\u001b[0;32m/usr/local/lib/python3.8/dist-packages/matplotlib/backends/backend_webagg_core.py\u001b[0m in \u001b[0;36m__init__\u001b[0;34m(self, canvas)\u001b[0m\n\u001b[1;32m    395\u001b[0m         \u001b[0mself\u001b[0m\u001b[0;34m.\u001b[0m\u001b[0mmessage\u001b[0m \u001b[0;34m=\u001b[0m \u001b[0;34m''\u001b[0m\u001b[0;34m\u001b[0m\u001b[0;34m\u001b[0m\u001b[0m\n\u001b[1;32m    396\u001b[0m         \u001b[0mself\u001b[0m\u001b[0;34m.\u001b[0m\u001b[0m_cursor\u001b[0m \u001b[0;34m=\u001b[0m \u001b[0;32mNone\u001b[0m  \u001b[0;31m# Remove with deprecation.\u001b[0m\u001b[0;34m\u001b[0m\u001b[0;34m\u001b[0m\u001b[0m\n\u001b[0;32m--> 397\u001b[0;31m         \u001b[0msuper\u001b[0m\u001b[0;34m(\u001b[0m\u001b[0;34m)\u001b[0m\u001b[0;34m.\u001b[0m\u001b[0m__init__\u001b[0m\u001b[0;34m(\u001b[0m\u001b[0mcanvas\u001b[0m\u001b[0;34m)\u001b[0m\u001b[0;34m\u001b[0m\u001b[0;34m\u001b[0m\u001b[0m\n\u001b[0m\u001b[1;32m    398\u001b[0m \u001b[0;34m\u001b[0m\u001b[0m\n\u001b[1;32m    399\u001b[0m     \u001b[0;32mdef\u001b[0m \u001b[0mset_message\u001b[0m\u001b[0;34m(\u001b[0m\u001b[0mself\u001b[0m\u001b[0;34m,\u001b[0m \u001b[0mmessage\u001b[0m\u001b[0;34m)\u001b[0m\u001b[0;34m:\u001b[0m\u001b[0;34m\u001b[0m\u001b[0;34m\u001b[0m\u001b[0m\n",
            "\u001b[0;32m/usr/local/lib/python3.8/dist-packages/matplotlib/backend_bases.py\u001b[0m in \u001b[0;36m__init__\u001b[0;34m(self, canvas)\u001b[0m\n\u001b[1;32m   2706\u001b[0m     \u001b[0;32mif\u001b[0m \u001b[0mcanvas\u001b[0m \u001b[0;32mis\u001b[0m \u001b[0;32mNone\u001b[0m\u001b[0;34m:\u001b[0m\u001b[0;34m\u001b[0m\u001b[0;34m\u001b[0m\u001b[0m\n\u001b[1;32m   2707\u001b[0m         \u001b[0mcanvas\u001b[0m \u001b[0;34m=\u001b[0m \u001b[0mevent\u001b[0m\u001b[0;34m.\u001b[0m\u001b[0mcanvas\u001b[0m\u001b[0;34m\u001b[0m\u001b[0;34m\u001b[0m\u001b[0m\n\u001b[0;32m-> 2708\u001b[0;31m     \u001b[0;32mif\u001b[0m \u001b[0mtoolbar\u001b[0m \u001b[0;32mis\u001b[0m \u001b[0;32mNone\u001b[0m\u001b[0;34m:\u001b[0m\u001b[0;34m\u001b[0m\u001b[0;34m\u001b[0m\u001b[0m\n\u001b[0m\u001b[1;32m   2709\u001b[0m         \u001b[0mtoolbar\u001b[0m \u001b[0;34m=\u001b[0m \u001b[0mcanvas\u001b[0m\u001b[0;34m.\u001b[0m\u001b[0mtoolbar\u001b[0m\u001b[0;34m\u001b[0m\u001b[0;34m\u001b[0m\u001b[0m\n\u001b[1;32m   2710\u001b[0m     \u001b[0;32mif\u001b[0m \u001b[0mtoolbar\u001b[0m \u001b[0;32mis\u001b[0m \u001b[0;32mnot\u001b[0m \u001b[0;32mNone\u001b[0m\u001b[0;34m:\u001b[0m\u001b[0;34m\u001b[0m\u001b[0;34m\u001b[0m\u001b[0m\n",
            "\u001b[0;32m/usr/local/lib/python3.8/dist-packages/matplotlib/backend_bases.py\u001b[0m in \u001b[0;36m_init_toolbar\u001b[0;34m(self)\u001b[0m\n\u001b[1;32m   2769\u001b[0m         \u001b[0mTo\u001b[0m \u001b[0mdisable\u001b[0m \u001b[0mthe\u001b[0m \u001b[0mdefault\u001b[0m \u001b[0mkey\u001b[0m \u001b[0mpress\u001b[0m \u001b[0mhandling\u001b[0m \u001b[0muse\u001b[0m\u001b[0;34m:\u001b[0m\u001b[0;34m:\u001b[0m\u001b[0;34m\u001b[0m\u001b[0;34m\u001b[0m\u001b[0m\n\u001b[1;32m   2770\u001b[0m \u001b[0;34m\u001b[0m\u001b[0m\n\u001b[0;32m-> 2771\u001b[0;31m             figure.canvas.mpl_disconnect(\n\u001b[0m\u001b[1;32m   2772\u001b[0m                 figure.canvas.manager.key_press_handler_id)\n\u001b[1;32m   2773\u001b[0m \u001b[0;34m\u001b[0m\u001b[0m\n",
            "\u001b[0;31mNotImplementedError\u001b[0m: "
          ]
        }
      ]
    },
    {
      "cell_type": "code",
      "source": [
        "w_in = np.zeros((1)) #widget regresie liniara\n",
        "b_in = 0\n",
        "plt.close('all')\n",
        "addpt = plt_one_addpt_onclick( x_train,y_train, w_in, b_in, logistic=False)"
      ],
      "metadata": {
        "colab": {
          "base_uri": "https://localhost:8080/",
          "height": 346
        },
        "id": "HuxXtPHDSoWI",
        "outputId": "a21fd949-2fe8-4a88-f57e-03955caeca06"
      },
      "execution_count": null,
      "outputs": [
        {
          "output_type": "error",
          "ename": "NotImplementedError",
          "evalue": "ignored",
          "traceback": [
            "\u001b[0;31m---------------------------------------------------------------------------\u001b[0m",
            "\u001b[0;31mNotImplementedError\u001b[0m                       Traceback (most recent call last)",
            "\u001b[0;32m<ipython-input-11-853001715e0c>\u001b[0m in \u001b[0;36m<module>\u001b[0;34m\u001b[0m\n\u001b[1;32m      2\u001b[0m \u001b[0mb_in\u001b[0m \u001b[0;34m=\u001b[0m \u001b[0;36m0\u001b[0m\u001b[0;34m\u001b[0m\u001b[0;34m\u001b[0m\u001b[0m\n\u001b[1;32m      3\u001b[0m \u001b[0mplt\u001b[0m\u001b[0;34m.\u001b[0m\u001b[0mclose\u001b[0m\u001b[0;34m(\u001b[0m\u001b[0;34m'all'\u001b[0m\u001b[0;34m)\u001b[0m\u001b[0;34m\u001b[0m\u001b[0;34m\u001b[0m\u001b[0m\n\u001b[0;32m----> 4\u001b[0;31m \u001b[0maddpt\u001b[0m \u001b[0;34m=\u001b[0m \u001b[0mplt_one_addpt_onclick\u001b[0m\u001b[0;34m(\u001b[0m \u001b[0mx_train\u001b[0m\u001b[0;34m,\u001b[0m\u001b[0my_train\u001b[0m\u001b[0;34m,\u001b[0m \u001b[0mw_in\u001b[0m\u001b[0;34m,\u001b[0m \u001b[0mb_in\u001b[0m\u001b[0;34m,\u001b[0m \u001b[0mlogistic\u001b[0m\u001b[0;34m=\u001b[0m\u001b[0;32mFalse\u001b[0m\u001b[0;34m)\u001b[0m\u001b[0;34m\u001b[0m\u001b[0;34m\u001b[0m\u001b[0m\n\u001b[0m",
            "\u001b[0;32m/content/plt_one_addpt_onclick.py\u001b[0m in \u001b[0;36m__init__\u001b[0;34m(self, x, y, w, b, logistic)\u001b[0m\n\u001b[1;32m     17\u001b[0m         \u001b[0mneg\u001b[0m \u001b[0;34m=\u001b[0m \u001b[0my\u001b[0m \u001b[0;34m==\u001b[0m \u001b[0;36m0\u001b[0m\u001b[0;34m\u001b[0m\u001b[0;34m\u001b[0m\u001b[0m\n\u001b[1;32m     18\u001b[0m \u001b[0;34m\u001b[0m\u001b[0m\n\u001b[0;32m---> 19\u001b[0;31m         \u001b[0mfig\u001b[0m\u001b[0;34m,\u001b[0m\u001b[0max\u001b[0m \u001b[0;34m=\u001b[0m \u001b[0mplt\u001b[0m\u001b[0;34m.\u001b[0m\u001b[0msubplots\u001b[0m\u001b[0;34m(\u001b[0m\u001b[0;36m1\u001b[0m\u001b[0;34m,\u001b[0m\u001b[0;36m1\u001b[0m\u001b[0;34m,\u001b[0m\u001b[0mfigsize\u001b[0m\u001b[0;34m=\u001b[0m\u001b[0;34m(\u001b[0m\u001b[0;36m8\u001b[0m\u001b[0;34m,\u001b[0m\u001b[0;36m4\u001b[0m\u001b[0;34m)\u001b[0m\u001b[0;34m)\u001b[0m\u001b[0;34m\u001b[0m\u001b[0;34m\u001b[0m\u001b[0m\n\u001b[0m\u001b[1;32m     20\u001b[0m         \u001b[0mfig\u001b[0m\u001b[0;34m.\u001b[0m\u001b[0mcanvas\u001b[0m\u001b[0;34m.\u001b[0m\u001b[0mtoolbar_visible\u001b[0m \u001b[0;34m=\u001b[0m \u001b[0;32mFalse\u001b[0m\u001b[0;34m\u001b[0m\u001b[0;34m\u001b[0m\u001b[0m\n\u001b[1;32m     21\u001b[0m         \u001b[0mfig\u001b[0m\u001b[0;34m.\u001b[0m\u001b[0mcanvas\u001b[0m\u001b[0;34m.\u001b[0m\u001b[0mheader_visible\u001b[0m \u001b[0;34m=\u001b[0m \u001b[0;32mFalse\u001b[0m\u001b[0;34m\u001b[0m\u001b[0;34m\u001b[0m\u001b[0m\n",
            "\u001b[0;32m/usr/local/lib/python3.8/dist-packages/matplotlib/pyplot.py\u001b[0m in \u001b[0;36msubplots\u001b[0;34m(nrows, ncols, sharex, sharey, squeeze, subplot_kw, gridspec_kw, **fig_kw)\u001b[0m\n\u001b[1;32m   1175\u001b[0m     \u001b[0moverlaps\u001b[0m \u001b[0;32mwith\u001b[0m \u001b[0mit\u001b[0m \u001b[0mbeyond\u001b[0m \u001b[0msharing\u001b[0m \u001b[0ma\u001b[0m \u001b[0mboundary\u001b[0m\u001b[0;34m:\u001b[0m\u001b[0;34m:\u001b[0m\u001b[0;34m\u001b[0m\u001b[0;34m\u001b[0m\u001b[0m\n\u001b[1;32m   1176\u001b[0m \u001b[0;34m\u001b[0m\u001b[0m\n\u001b[0;32m-> 1177\u001b[0;31m         \u001b[0;32mimport\u001b[0m \u001b[0mmatplotlib\u001b[0m\u001b[0;34m.\u001b[0m\u001b[0mpyplot\u001b[0m \u001b[0;32mas\u001b[0m \u001b[0mplt\u001b[0m\u001b[0;34m\u001b[0m\u001b[0;34m\u001b[0m\u001b[0m\n\u001b[0m\u001b[1;32m   1178\u001b[0m         \u001b[0;31m# plot a line, implicitly creating a subplot(111)\u001b[0m\u001b[0;34m\u001b[0m\u001b[0;34m\u001b[0m\u001b[0;34m\u001b[0m\u001b[0m\n\u001b[1;32m   1179\u001b[0m         \u001b[0mplt\u001b[0m\u001b[0;34m.\u001b[0m\u001b[0mplot\u001b[0m\u001b[0;34m(\u001b[0m\u001b[0;34m[\u001b[0m\u001b[0;36m1\u001b[0m\u001b[0;34m,\u001b[0m \u001b[0;36m2\u001b[0m\u001b[0;34m,\u001b[0m \u001b[0;36m3\u001b[0m\u001b[0;34m]\u001b[0m\u001b[0;34m)\u001b[0m\u001b[0;34m\u001b[0m\u001b[0;34m\u001b[0m\u001b[0m\n",
            "\u001b[0;32m/usr/local/lib/python3.8/dist-packages/matplotlib/pyplot.py\u001b[0m in \u001b[0;36mfigure\u001b[0;34m(num, figsize, dpi, facecolor, edgecolor, frameon, FigureClass, clear, **kwargs)\u001b[0m\n\u001b[1;32m    538\u001b[0m     \u001b[0mIf\u001b[0m \u001b[0mthere\u001b[0m \u001b[0;32mis\u001b[0m \u001b[0man\u001b[0m \u001b[0mactive\u001b[0m \u001b[0mfigure\u001b[0m\u001b[0;34m,\u001b[0m \u001b[0mit\u001b[0m \u001b[0mwill\u001b[0m \u001b[0mbe\u001b[0m \u001b[0mupdated\u001b[0m \u001b[0;32mand\u001b[0m \u001b[0mdisplayed\u001b[0m \u001b[0mbefore\u001b[0m \u001b[0mthe\u001b[0m\u001b[0;34m\u001b[0m\u001b[0;34m\u001b[0m\u001b[0m\n\u001b[1;32m    539\u001b[0m     \u001b[0mpause\u001b[0m\u001b[0;34m,\u001b[0m \u001b[0;32mand\u001b[0m \u001b[0mthe\u001b[0m \u001b[0mGUI\u001b[0m \u001b[0mevent\u001b[0m \u001b[0mloop\u001b[0m \u001b[0;34m(\u001b[0m\u001b[0;32mif\u001b[0m \u001b[0many\u001b[0m\u001b[0;34m)\u001b[0m \u001b[0mwill\u001b[0m \u001b[0mrun\u001b[0m \u001b[0mduring\u001b[0m \u001b[0mthe\u001b[0m \u001b[0mpause\u001b[0m\u001b[0;34m.\u001b[0m\u001b[0;34m\u001b[0m\u001b[0;34m\u001b[0m\u001b[0m\n\u001b[0;32m--> 540\u001b[0;31m \u001b[0;34m\u001b[0m\u001b[0m\n\u001b[0m\u001b[1;32m    541\u001b[0m     \u001b[0mThis\u001b[0m \u001b[0mcan\u001b[0m \u001b[0mbe\u001b[0m \u001b[0mused\u001b[0m \u001b[0;32mfor\u001b[0m \u001b[0mcrude\u001b[0m \u001b[0manimation\u001b[0m\u001b[0;34m.\u001b[0m  \u001b[0mFor\u001b[0m \u001b[0mmore\u001b[0m \u001b[0mcomplex\u001b[0m \u001b[0manimation\u001b[0m \u001b[0muse\u001b[0m\u001b[0;34m\u001b[0m\u001b[0;34m\u001b[0m\u001b[0m\n\u001b[1;32m    542\u001b[0m     \u001b[0;34m:\u001b[0m\u001b[0mmod\u001b[0m\u001b[0;34m:\u001b[0m\u001b[0;31m`\u001b[0m\u001b[0mmatplotlib\u001b[0m\u001b[0;34m.\u001b[0m\u001b[0manimation\u001b[0m\u001b[0;31m`\u001b[0m\u001b[0;34m.\u001b[0m\u001b[0;34m\u001b[0m\u001b[0;34m\u001b[0m\u001b[0m\n",
            "\u001b[0;32m/usr/local/lib/python3.8/dist-packages/matplotlib/backend_bases.py\u001b[0m in \u001b[0;36mnew_figure_manager\u001b[0;34m(cls, num, *args, **kwargs)\u001b[0m\n\u001b[1;32m   3356\u001b[0m \u001b[0;34m\u001b[0m\u001b[0m\n\u001b[1;32m   3357\u001b[0m         \u001b[0mThis\u001b[0m \u001b[0monly\u001b[0m \u001b[0mgets\u001b[0m \u001b[0mused\u001b[0m \u001b[0;32mfor\u001b[0m \u001b[0mtoggled\u001b[0m \u001b[0mtools\u001b[0m\u001b[0;34m.\u001b[0m\u001b[0;34m\u001b[0m\u001b[0;34m\u001b[0m\u001b[0m\n\u001b[0;32m-> 3358\u001b[0;31m         \"\"\"\n\u001b[0m\u001b[1;32m   3359\u001b[0m         \u001b[0mself\u001b[0m\u001b[0;34m.\u001b[0m\u001b[0mtoggle_toolitem\u001b[0m\u001b[0;34m(\u001b[0m\u001b[0mevent\u001b[0m\u001b[0;34m.\u001b[0m\u001b[0mtool\u001b[0m\u001b[0;34m.\u001b[0m\u001b[0mname\u001b[0m\u001b[0;34m,\u001b[0m \u001b[0mevent\u001b[0m\u001b[0;34m.\u001b[0m\u001b[0mtool\u001b[0m\u001b[0;34m.\u001b[0m\u001b[0mtoggled\u001b[0m\u001b[0;34m)\u001b[0m\u001b[0;34m\u001b[0m\u001b[0;34m\u001b[0m\u001b[0m\n\u001b[1;32m   3360\u001b[0m \u001b[0;34m\u001b[0m\u001b[0m\n",
            "\u001b[0;32m/usr/local/lib/python3.8/dist-packages/ipympl/backend_nbagg.py\u001b[0m in \u001b[0;36mnew_figure_manager_given_figure\u001b[0;34m(num, figure)\u001b[0m\n\u001b[1;32m    485\u001b[0m         \u001b[0;32mif\u001b[0m \u001b[0;34m'nbagg.transparent'\u001b[0m \u001b[0;32min\u001b[0m \u001b[0mrcParams\u001b[0m \u001b[0;32mand\u001b[0m \u001b[0mrcParams\u001b[0m\u001b[0;34m[\u001b[0m\u001b[0;34m'nbagg.transparent'\u001b[0m\u001b[0;34m]\u001b[0m\u001b[0;34m:\u001b[0m\u001b[0;34m\u001b[0m\u001b[0;34m\u001b[0m\u001b[0m\n\u001b[1;32m    486\u001b[0m             \u001b[0mfigure\u001b[0m\u001b[0;34m.\u001b[0m\u001b[0mpatch\u001b[0m\u001b[0;34m.\u001b[0m\u001b[0mset_alpha\u001b[0m\u001b[0;34m(\u001b[0m\u001b[0;36m0\u001b[0m\u001b[0;34m)\u001b[0m\u001b[0;34m\u001b[0m\u001b[0;34m\u001b[0m\u001b[0m\n\u001b[0;32m--> 487\u001b[0;31m         \u001b[0mmanager\u001b[0m \u001b[0;34m=\u001b[0m \u001b[0mFigureManager\u001b[0m\u001b[0;34m(\u001b[0m\u001b[0mcanvas\u001b[0m\u001b[0;34m,\u001b[0m \u001b[0mnum\u001b[0m\u001b[0;34m)\u001b[0m\u001b[0;34m\u001b[0m\u001b[0;34m\u001b[0m\u001b[0m\n\u001b[0m\u001b[1;32m    488\u001b[0m \u001b[0;34m\u001b[0m\u001b[0m\n\u001b[1;32m    489\u001b[0m         \u001b[0;32mif\u001b[0m \u001b[0mis_interactive\u001b[0m\u001b[0;34m(\u001b[0m\u001b[0;34m)\u001b[0m\u001b[0;34m:\u001b[0m\u001b[0;34m\u001b[0m\u001b[0;34m\u001b[0m\u001b[0m\n",
            "\u001b[0;32m/usr/local/lib/python3.8/dist-packages/ipympl/backend_nbagg.py\u001b[0m in \u001b[0;36m__init__\u001b[0;34m(self, canvas, num)\u001b[0m\n\u001b[1;32m    459\u001b[0m         \u001b[0mFigureManagerWebAgg\u001b[0m\u001b[0;34m.\u001b[0m\u001b[0m__init__\u001b[0m\u001b[0;34m(\u001b[0m\u001b[0mself\u001b[0m\u001b[0;34m,\u001b[0m \u001b[0mcanvas\u001b[0m\u001b[0;34m,\u001b[0m \u001b[0mnum\u001b[0m\u001b[0;34m)\u001b[0m\u001b[0;34m\u001b[0m\u001b[0;34m\u001b[0m\u001b[0m\n\u001b[1;32m    460\u001b[0m         \u001b[0mself\u001b[0m\u001b[0;34m.\u001b[0m\u001b[0mweb_sockets\u001b[0m \u001b[0;34m=\u001b[0m \u001b[0;34m[\u001b[0m\u001b[0mself\u001b[0m\u001b[0;34m.\u001b[0m\u001b[0mcanvas\u001b[0m\u001b[0;34m]\u001b[0m\u001b[0;34m\u001b[0m\u001b[0;34m\u001b[0m\u001b[0m\n\u001b[0;32m--> 461\u001b[0;31m         \u001b[0mself\u001b[0m\u001b[0;34m.\u001b[0m\u001b[0mtoolbar\u001b[0m \u001b[0;34m=\u001b[0m \u001b[0mToolbar\u001b[0m\u001b[0;34m(\u001b[0m\u001b[0mself\u001b[0m\u001b[0;34m.\u001b[0m\u001b[0mcanvas\u001b[0m\u001b[0;34m)\u001b[0m\u001b[0;34m\u001b[0m\u001b[0;34m\u001b[0m\u001b[0m\n\u001b[0m\u001b[1;32m    462\u001b[0m \u001b[0;34m\u001b[0m\u001b[0m\n\u001b[1;32m    463\u001b[0m     \u001b[0;32mdef\u001b[0m \u001b[0mshow\u001b[0m\u001b[0;34m(\u001b[0m\u001b[0mself\u001b[0m\u001b[0;34m)\u001b[0m\u001b[0;34m:\u001b[0m\u001b[0;34m\u001b[0m\u001b[0;34m\u001b[0m\u001b[0m\n",
            "\u001b[0;32m/usr/local/lib/python3.8/dist-packages/ipympl/backend_nbagg.py\u001b[0m in \u001b[0;36m__init__\u001b[0;34m(self, canvas, *args, **kwargs)\u001b[0m\n\u001b[1;32m    120\u001b[0m     \u001b[0;32mdef\u001b[0m \u001b[0m__init__\u001b[0m\u001b[0;34m(\u001b[0m\u001b[0mself\u001b[0m\u001b[0;34m,\u001b[0m \u001b[0mcanvas\u001b[0m\u001b[0;34m,\u001b[0m \u001b[0;34m*\u001b[0m\u001b[0margs\u001b[0m\u001b[0;34m,\u001b[0m \u001b[0;34m**\u001b[0m\u001b[0mkwargs\u001b[0m\u001b[0;34m)\u001b[0m\u001b[0;34m:\u001b[0m\u001b[0;34m\u001b[0m\u001b[0;34m\u001b[0m\u001b[0m\n\u001b[1;32m    121\u001b[0m         \u001b[0mDOMWidget\u001b[0m\u001b[0;34m.\u001b[0m\u001b[0m__init__\u001b[0m\u001b[0;34m(\u001b[0m\u001b[0mself\u001b[0m\u001b[0;34m,\u001b[0m \u001b[0;34m*\u001b[0m\u001b[0margs\u001b[0m\u001b[0;34m,\u001b[0m \u001b[0;34m**\u001b[0m\u001b[0mkwargs\u001b[0m\u001b[0;34m)\u001b[0m\u001b[0;34m\u001b[0m\u001b[0;34m\u001b[0m\u001b[0m\n\u001b[0;32m--> 122\u001b[0;31m         \u001b[0mNavigationToolbar2WebAgg\u001b[0m\u001b[0;34m.\u001b[0m\u001b[0m__init__\u001b[0m\u001b[0;34m(\u001b[0m\u001b[0mself\u001b[0m\u001b[0;34m,\u001b[0m \u001b[0mcanvas\u001b[0m\u001b[0;34m,\u001b[0m \u001b[0;34m*\u001b[0m\u001b[0margs\u001b[0m\u001b[0;34m,\u001b[0m \u001b[0;34m**\u001b[0m\u001b[0mkwargs\u001b[0m\u001b[0;34m)\u001b[0m\u001b[0;34m\u001b[0m\u001b[0;34m\u001b[0m\u001b[0m\n\u001b[0m\u001b[1;32m    123\u001b[0m \u001b[0;34m\u001b[0m\u001b[0m\n\u001b[1;32m    124\u001b[0m         \u001b[0mself\u001b[0m\u001b[0;34m.\u001b[0m\u001b[0mon_msg\u001b[0m\u001b[0;34m(\u001b[0m\u001b[0mself\u001b[0m\u001b[0;34m.\u001b[0m\u001b[0mcanvas\u001b[0m\u001b[0;34m.\u001b[0m\u001b[0m_handle_message\u001b[0m\u001b[0;34m)\u001b[0m\u001b[0;34m\u001b[0m\u001b[0;34m\u001b[0m\u001b[0m\n",
            "\u001b[0;32m/usr/local/lib/python3.8/dist-packages/matplotlib/backends/backend_webagg_core.py\u001b[0m in \u001b[0;36m__init__\u001b[0;34m(self, canvas)\u001b[0m\n\u001b[1;32m    395\u001b[0m         \u001b[0mself\u001b[0m\u001b[0;34m.\u001b[0m\u001b[0mmessage\u001b[0m \u001b[0;34m=\u001b[0m \u001b[0;34m''\u001b[0m\u001b[0;34m\u001b[0m\u001b[0;34m\u001b[0m\u001b[0m\n\u001b[1;32m    396\u001b[0m         \u001b[0mself\u001b[0m\u001b[0;34m.\u001b[0m\u001b[0m_cursor\u001b[0m \u001b[0;34m=\u001b[0m \u001b[0;32mNone\u001b[0m  \u001b[0;31m# Remove with deprecation.\u001b[0m\u001b[0;34m\u001b[0m\u001b[0;34m\u001b[0m\u001b[0m\n\u001b[0;32m--> 397\u001b[0;31m         \u001b[0msuper\u001b[0m\u001b[0;34m(\u001b[0m\u001b[0;34m)\u001b[0m\u001b[0;34m.\u001b[0m\u001b[0m__init__\u001b[0m\u001b[0;34m(\u001b[0m\u001b[0mcanvas\u001b[0m\u001b[0;34m)\u001b[0m\u001b[0;34m\u001b[0m\u001b[0;34m\u001b[0m\u001b[0m\n\u001b[0m\u001b[1;32m    398\u001b[0m \u001b[0;34m\u001b[0m\u001b[0m\n\u001b[1;32m    399\u001b[0m     \u001b[0;32mdef\u001b[0m \u001b[0mset_message\u001b[0m\u001b[0;34m(\u001b[0m\u001b[0mself\u001b[0m\u001b[0;34m,\u001b[0m \u001b[0mmessage\u001b[0m\u001b[0;34m)\u001b[0m\u001b[0;34m:\u001b[0m\u001b[0;34m\u001b[0m\u001b[0;34m\u001b[0m\u001b[0m\n",
            "\u001b[0;32m/usr/local/lib/python3.8/dist-packages/matplotlib/backend_bases.py\u001b[0m in \u001b[0;36m__init__\u001b[0;34m(self, canvas)\u001b[0m\n\u001b[1;32m   2706\u001b[0m     \u001b[0;32mif\u001b[0m \u001b[0mcanvas\u001b[0m \u001b[0;32mis\u001b[0m \u001b[0;32mNone\u001b[0m\u001b[0;34m:\u001b[0m\u001b[0;34m\u001b[0m\u001b[0;34m\u001b[0m\u001b[0m\n\u001b[1;32m   2707\u001b[0m         \u001b[0mcanvas\u001b[0m \u001b[0;34m=\u001b[0m \u001b[0mevent\u001b[0m\u001b[0;34m.\u001b[0m\u001b[0mcanvas\u001b[0m\u001b[0;34m\u001b[0m\u001b[0;34m\u001b[0m\u001b[0m\n\u001b[0;32m-> 2708\u001b[0;31m     \u001b[0;32mif\u001b[0m \u001b[0mtoolbar\u001b[0m \u001b[0;32mis\u001b[0m \u001b[0;32mNone\u001b[0m\u001b[0;34m:\u001b[0m\u001b[0;34m\u001b[0m\u001b[0;34m\u001b[0m\u001b[0m\n\u001b[0m\u001b[1;32m   2709\u001b[0m         \u001b[0mtoolbar\u001b[0m \u001b[0;34m=\u001b[0m \u001b[0mcanvas\u001b[0m\u001b[0;34m.\u001b[0m\u001b[0mtoolbar\u001b[0m\u001b[0;34m\u001b[0m\u001b[0;34m\u001b[0m\u001b[0m\n\u001b[1;32m   2710\u001b[0m     \u001b[0;32mif\u001b[0m \u001b[0mtoolbar\u001b[0m \u001b[0;32mis\u001b[0m \u001b[0;32mnot\u001b[0m \u001b[0;32mNone\u001b[0m\u001b[0;34m:\u001b[0m\u001b[0;34m\u001b[0m\u001b[0;34m\u001b[0m\u001b[0m\n",
            "\u001b[0;32m/usr/local/lib/python3.8/dist-packages/matplotlib/backend_bases.py\u001b[0m in \u001b[0;36m_init_toolbar\u001b[0;34m(self)\u001b[0m\n\u001b[1;32m   2769\u001b[0m         \u001b[0mTo\u001b[0m \u001b[0mdisable\u001b[0m \u001b[0mthe\u001b[0m \u001b[0mdefault\u001b[0m \u001b[0mkey\u001b[0m \u001b[0mpress\u001b[0m \u001b[0mhandling\u001b[0m \u001b[0muse\u001b[0m\u001b[0;34m:\u001b[0m\u001b[0;34m:\u001b[0m\u001b[0;34m\u001b[0m\u001b[0;34m\u001b[0m\u001b[0m\n\u001b[1;32m   2770\u001b[0m \u001b[0;34m\u001b[0m\u001b[0m\n\u001b[0;32m-> 2771\u001b[0;31m             figure.canvas.mpl_disconnect(\n\u001b[0m\u001b[1;32m   2772\u001b[0m                 figure.canvas.manager.key_press_handler_id)\n\u001b[1;32m   2773\u001b[0m \u001b[0;34m\u001b[0m\u001b[0m\n",
            "\u001b[0;31mNotImplementedError\u001b[0m: "
          ]
        }
      ]
    },
    {
      "cell_type": "code",
      "source": [
        "# Exemplu pentru un vector\n",
        "input_array = np.array([1,2,3])\n",
        "exp_array = np.exp(input_array)\n",
        "print(\"Input:\", input_array)\n",
        "print(\"Output:\", exp_array)\n",
        "# Exemplu pentru un scalar\n",
        "input_val = 1\n",
        "exp_val = np.exp(input_val)\n",
        "print(\"Input:\", input_val)\n",
        "print(\"Output:\", exp_val)"
      ],
      "metadata": {
        "colab": {
          "base_uri": "https://localhost:8080/"
        },
        "id": "AyhcXla0ZHUk",
        "outputId": "ffd2744a-3b42-464b-94ca-0a9301539579"
      },
      "execution_count": null,
      "outputs": [
        {
          "output_type": "stream",
          "name": "stdout",
          "text": [
            "Input: [1 2 3]\n",
            "Output: [ 2.72  7.39 20.09]\n",
            "Input: 1\n",
            "Output: 2.718281828459045\n"
          ]
        }
      ]
    },
    {
      "cell_type": "code",
      "source": [
        "def sigmoid(z):\n",
        " \"\"\"\n",
        " Compute the sigmoid of z\n",
        " Args:\n",
        " z (ndarray): A scalar, numpy array of any size.\n",
        " Returns:\n",
        " g (ndarray): sigmoid(z), with the same shape as z\n",
        "\n",
        " \"\"\"\n",
        " g = 1/(1+np.exp(-z))\n",
        "\n",
        " return g\n"
      ],
      "metadata": {
        "id": "UxVL_ddeZLkj"
      },
      "execution_count": null,
      "outputs": []
    },
    {
      "cell_type": "code",
      "source": [
        "# Generam un array de valori distantate egal intre -10 si 10\n",
        "z_tmp = np.arange(-10,11)\n",
        "# Folosim functia sigmoid pentru a calcula sigmoida valorilor generate\n",
        "y = sigmoid(z_tmp)\n",
        "# Afisarea celor doua coloane in paralel:\n",
        "np.set_printoptions(precision=3) #seteaza numarul de zecimale la afisare\n",
        "print(\"Input (z), Output (sigmoid(z))\")\n",
        "print(np.c_[z_tmp, y]) #numpy.c_ realizeaza concatenarea celor doua matrici"
      ],
      "metadata": {
        "colab": {
          "base_uri": "https://localhost:8080/"
        },
        "id": "rP8IAQlvZPBe",
        "outputId": "c0c7a710-f459-4add-d41a-44e9b80b4cbe"
      },
      "execution_count": null,
      "outputs": [
        {
          "output_type": "stream",
          "name": "stdout",
          "text": [
            "Input (z), Output (sigmoid(z))\n",
            "[[-1.000e+01  4.540e-05]\n",
            " [-9.000e+00  1.234e-04]\n",
            " [-8.000e+00  3.354e-04]\n",
            " [-7.000e+00  9.111e-04]\n",
            " [-6.000e+00  2.473e-03]\n",
            " [-5.000e+00  6.693e-03]\n",
            " [-4.000e+00  1.799e-02]\n",
            " [-3.000e+00  4.743e-02]\n",
            " [-2.000e+00  1.192e-01]\n",
            " [-1.000e+00  2.689e-01]\n",
            " [ 0.000e+00  5.000e-01]\n",
            " [ 1.000e+00  7.311e-01]\n",
            " [ 2.000e+00  8.808e-01]\n",
            " [ 3.000e+00  9.526e-01]\n",
            " [ 4.000e+00  9.820e-01]\n",
            " [ 5.000e+00  9.933e-01]\n",
            " [ 6.000e+00  9.975e-01]\n",
            " [ 7.000e+00  9.991e-01]\n",
            " [ 8.000e+00  9.997e-01]\n",
            " [ 9.000e+00  9.999e-01]\n",
            " [ 1.000e+01  1.000e+00]]\n"
          ]
        }
      ]
    },
    {
      "cell_type": "code",
      "source": [
        "from lab_utils_common import draw_vthresh\n",
        "# Afisam valorile lui z si sigmoid(z)\n",
        "fig,ax = plt.subplots(1,1,figsize=(5,3))\n",
        "ax.plot(z_tmp, y, c=\"b\")\n",
        "ax.set_title(\"Functia sigmoid\")\n",
        "ax.set_ylabel('sigmoid(z)')\n",
        "ax.set_xlabel('z')\n",
        "draw_vthresh(ax,0)"
      ],
      "metadata": {
        "colab": {
          "base_uri": "https://localhost:8080/",
          "height": 305,
          "referenced_widgets": [
            "9cd5597aa4b34513b79def78a7cd50c4",
            "960004843f37494b9d208e3e7edf2127",
            "bdf86b62bb534a93ac149a2195805466",
            "a23f40a89cce4301a750497ac3948426",
            "515b4d2c2fe2412c92adac7f1c9ca84f",
            "61d491d1e5d74ad99a858543a3b2452b"
          ]
        },
        "id": "4VmzONt7ZayD",
        "outputId": "5ba094bd-6a68-4a60-9e47-9b0b08542e92"
      },
      "execution_count": null,
      "outputs": [
        {
          "output_type": "display_data",
          "data": {
            "text/plain": [
              "Canvas(toolbar=Toolbar(toolitems=[('Home', 'Reset original view', 'home', 'home'), ('Back', 'Back to previous …"
            ],
            "image/png": "[encoded data removed]",
            "text/html": [
              "\n",
              "            <div style=\"display: inline-block;\">\n",
              "                <div class=\"jupyter-widgets widget-label\" style=\"text-align: center;\">\n",
              "                    Figure\n",
              "                </div>\n",
              "                <img src='data:image/png;base64,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' width=360.0/>\n",
              "            </div>\n",
              "        "
            ],
            "application/vnd.jupyter.widget-view+json": {
              "version_major": 2,
              "version_minor": 0,
              "model_id": "9cd5597aa4b34513b79def78a7cd50c4"
            }
          },
          "metadata": {
            "application/vnd.jupyter.widget-view+json": {
              "colab": {
                "custom_widget_manager": {
                  "url": "https://ssl.gstatic.com/colaboratory-static/widgets/colab-cdn-widget-manager/d2e234f7cc04bf79/manager.min.js"
                }
              }
            }
          }
        }
      ]
    },
    {
      "cell_type": "code",
      "source": [
        "x_train = np.array([0., 1, 2, 3, 4, 5])\n",
        "y_train = np.array([0, 0, 0, 1, 1, 1])"
      ],
      "metadata": {
        "id": "4yOGRM8NZgny"
      },
      "execution_count": null,
      "outputs": []
    },
    {
      "cell_type": "code",
      "source": [
        "w_in = np.zeros((1))\n",
        "b_in = 0"
      ],
      "metadata": {
        "id": "7wCGIjH0Zkz8"
      },
      "execution_count": null,
      "outputs": []
    },
    {
      "cell_type": "code",
      "source": [
        "plt.close('all')\n",
        "addpt = plt_one_addpt_onclick( x_train,y_train, w_in, b_in, logistic=True)"
      ],
      "metadata": {
        "colab": {
          "base_uri": "https://localhost:8080/",
          "height": 313,
          "referenced_widgets": [
            "ababcb3c3e654bbebee2c3a6a5b4a64d",
            "d9ad58a2fd644d91b9e6bb699cdc1f0e",
            "fc54ce444bf144d09cfa2c52ef0a2977",
            "bb2eb56b55f34264ab4d98266b43e710"
          ]
        },
        "id": "F0U92ZU-Zn6V",
        "outputId": "a7a0e44e-39d8-4388-ce38-ef0423f17b6e"
      },
      "execution_count": null,
      "outputs": [
        {
          "output_type": "display_data",
          "data": {
            "text/plain": [
              "Canvas(footer_visible=False, header_visible=False, toolbar=Toolbar(toolitems=[('Home', 'Reset original view', …"
            ],
            "image/png": "[encoded data removed]",
            "text/html": [
              "\n",
              "            <div style=\"display: inline-block;\">\n",
              "                <div class=\"jupyter-widgets widget-label\" style=\"text-align: center;\">\n",
              "                    Figure\n",
              "                </div>\n",
              "                <img src='data:image/png;base64,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' width=576.0/>\n",
              "            </div>\n",
              "        "
            ],
            "application/vnd.jupyter.widget-view+json": {
              "version_major": 2,
              "version_minor": 0,
              "model_id": "ababcb3c3e654bbebee2c3a6a5b4a64d"
            }
          },
          "metadata": {
            "application/vnd.jupyter.widget-view+json": {
              "colab": {
                "custom_widget_manager": {
                  "url": "https://ssl.gstatic.com/colaboratory-static/widgets/colab-cdn-widget-manager/d2e234f7cc04bf79/manager.min.js"
                }
              }
            }
          }
        }
      ]
    }
  ]
}